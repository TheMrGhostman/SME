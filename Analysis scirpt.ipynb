{
 "cells": [
  {
   "cell_type": "code",
   "execution_count": 1,
   "metadata": {},
   "outputs": [],
   "source": [
    "import pandas as pd \n",
    "import matplotlib.pyplot as plt\n",
    "import os\n",
    "import numpy as np"
   ]
  },
  {
   "cell_type": "code",
   "execution_count": 2,
   "metadata": {
    "scrolled": true
   },
   "outputs": [
    {
     "data": {
      "text/plain": [
       "['.DS_Store', 'pizzasize.txt', 'pizzasize.csv']"
      ]
     },
     "execution_count": 2,
     "metadata": {},
     "output_type": "execute_result"
    }
   ],
   "source": [
    "path = os.getcwd()+\"/Data12/\"\n",
    "os.listdir(path)"
   ]
  },
  {
   "cell_type": "markdown",
   "metadata": {},
   "source": [
    "# Načtení dat"
   ]
  },
  {
   "cell_type": "code",
   "execution_count": 3,
   "metadata": {},
   "outputs": [],
   "source": [
    "data = pd.read_csv(path + \"pizzasize.csv\")"
   ]
  },
  {
   "cell_type": "code",
   "execution_count": 5,
   "metadata": {},
   "outputs": [],
   "source": [
    "data.set_index(\"ID\", inplace=True)"
   ]
  },
  {
   "cell_type": "code",
   "execution_count": 6,
   "metadata": {},
   "outputs": [
    {
     "data": {
      "text/html": [
       "<div>\n",
       "<style scoped>\n",
       "    .dataframe tbody tr th:only-of-type {\n",
       "        vertical-align: middle;\n",
       "    }\n",
       "\n",
       "    .dataframe tbody tr th {\n",
       "        vertical-align: top;\n",
       "    }\n",
       "\n",
       "    .dataframe thead th {\n",
       "        text-align: right;\n",
       "    }\n",
       "</style>\n",
       "<table border=\"1\" class=\"dataframe\">\n",
       "  <thead>\n",
       "    <tr style=\"text-align: right;\">\n",
       "      <th></th>\n",
       "      <th>Store</th>\n",
       "      <th>CrustDescription</th>\n",
       "      <th>Topping</th>\n",
       "      <th>Diameter</th>\n",
       "    </tr>\n",
       "    <tr>\n",
       "      <th>ID</th>\n",
       "      <th></th>\n",
       "      <th></th>\n",
       "      <th></th>\n",
       "      <th></th>\n",
       "    </tr>\n",
       "  </thead>\n",
       "  <tbody>\n",
       "    <tr>\n",
       "      <th>1</th>\n",
       "      <td>Dominos</td>\n",
       "      <td>ThinNCrispy</td>\n",
       "      <td>Supreme</td>\n",
       "      <td>29.40</td>\n",
       "    </tr>\n",
       "    <tr>\n",
       "      <th>2</th>\n",
       "      <td>Dominos</td>\n",
       "      <td>ThinNCrispy</td>\n",
       "      <td>BBQMeatlovers</td>\n",
       "      <td>29.63</td>\n",
       "    </tr>\n",
       "    <tr>\n",
       "      <th>3</th>\n",
       "      <td>Dominos</td>\n",
       "      <td>DeepPan</td>\n",
       "      <td>Hawaiian</td>\n",
       "      <td>27.06</td>\n",
       "    </tr>\n",
       "    <tr>\n",
       "      <th>4</th>\n",
       "      <td>Dominos</td>\n",
       "      <td>ThinNCrispy</td>\n",
       "      <td>Supreme</td>\n",
       "      <td>27.45</td>\n",
       "    </tr>\n",
       "    <tr>\n",
       "      <th>5</th>\n",
       "      <td>Dominos</td>\n",
       "      <td>ClassicCrust</td>\n",
       "      <td>Hawaiian</td>\n",
       "      <td>26.59</td>\n",
       "    </tr>\n",
       "  </tbody>\n",
       "</table>\n",
       "</div>"
      ],
      "text/plain": [
       "      Store CrustDescription        Topping  Diameter\n",
       "ID                                                   \n",
       "1   Dominos      ThinNCrispy        Supreme     29.40\n",
       "2   Dominos      ThinNCrispy  BBQMeatlovers     29.63\n",
       "3   Dominos          DeepPan       Hawaiian     27.06\n",
       "4   Dominos      ThinNCrispy        Supreme     27.45\n",
       "5   Dominos     ClassicCrust       Hawaiian     26.59"
      ]
     },
     "execution_count": 6,
     "metadata": {},
     "output_type": "execute_result"
    }
   ],
   "source": [
    "data.head(5)"
   ]
  },
  {
   "cell_type": "code",
   "execution_count": 7,
   "metadata": {},
   "outputs": [
    {
     "name": "stdout",
     "output_type": "stream",
     "text": [
      "Dominos EagleBoys\n"
     ]
    }
   ],
   "source": [
    "store1, store2 = pd.unique(data[\"Store\"])\n",
    "print(store1, store2)"
   ]
  },
  {
   "cell_type": "code",
   "execution_count": 8,
   "metadata": {},
   "outputs": [],
   "source": [
    "data_np = np.array(data)"
   ]
  },
  {
   "cell_type": "markdown",
   "metadata": {},
   "source": [
    "# Rozdělení dat podle řetězců"
   ]
  },
  {
   "cell_type": "code",
   "execution_count": 9,
   "metadata": {},
   "outputs": [],
   "source": [
    "data_Dominos = np.array([i for i in data_np if i[0]==store1])\n",
    "data_EagleBoys = np.array([i for i in data_np if i[0]==store2])"
   ]
  },
  {
   "cell_type": "markdown",
   "metadata": {},
   "source": [
    "# Přejmenování"
   ]
  },
  {
   "cell_type": "code",
   "execution_count": 11,
   "metadata": {},
   "outputs": [
    {
     "data": {
      "text/plain": [
       "array(['ClassicCrust', 'DeepPan', 'ThinNCrispy'], dtype=object)"
      ]
     },
     "execution_count": 11,
     "metadata": {},
     "output_type": "execute_result"
    }
   ],
   "source": [
    "np.unique(data_Dominos[:,1])"
   ]
  },
  {
   "cell_type": "code",
   "execution_count": 12,
   "metadata": {},
   "outputs": [
    {
     "data": {
      "text/plain": [
       "array(['DeepPan', 'MidCrust', 'ThinCrust'], dtype=object)"
      ]
     },
     "execution_count": 12,
     "metadata": {},
     "output_type": "execute_result"
    }
   ],
   "source": [
    "np.unique(data_EagleBoys[:,1])"
   ]
  },
  {
   "cell_type": "code",
   "execution_count": 13,
   "metadata": {},
   "outputs": [
    {
     "data": {
      "text/plain": [
       "array(['BBQMeatlovers', 'Hawaiian', 'Supreme'], dtype=object)"
      ]
     },
     "execution_count": 13,
     "metadata": {},
     "output_type": "execute_result"
    }
   ],
   "source": [
    "np.unique(data_Dominos[:,2])"
   ]
  },
  {
   "cell_type": "code",
   "execution_count": 14,
   "metadata": {},
   "outputs": [
    {
     "data": {
      "text/plain": [
       "array(['BBQMeatlovers', 'Hawaiian', 'SuperSupremo'], dtype=object)"
      ]
     },
     "execution_count": 14,
     "metadata": {},
     "output_type": "execute_result"
    }
   ],
   "source": [
    "np.unique(data_EagleBoys[:,2])"
   ]
  },
  {
   "cell_type": "code",
   "execution_count": 19,
   "metadata": {},
   "outputs": [],
   "source": [
    "data_EagleBoys[data_EagleBoys[:,2] == \"SuperSupremo\", 2] = \"Supreme\"\n",
    "data_EagleBoys[data_EagleBoys[:,1] == \"ThinCrust\", 1] = \"Thin\"\n",
    "data_EagleBoys[data_EagleBoys[:,1] == \"MidCrust\", 1] = \"Mid\""
   ]
  },
  {
   "cell_type": "code",
   "execution_count": 20,
   "metadata": {},
   "outputs": [],
   "source": [
    "data_Dominos[data_Dominos[:,1] == \"ThinNCrispy\", 1] = \"Thin\"\n",
    "data_Dominos[data_Dominos[:,1] == \"ClassicCrust\", 1] = \"Mid\""
   ]
  },
  {
   "cell_type": "code",
   "execution_count": 21,
   "metadata": {},
   "outputs": [
    {
     "data": {
      "text/plain": [
       "array([ True,  True,  True])"
      ]
     },
     "execution_count": 21,
     "metadata": {},
     "output_type": "execute_result"
    }
   ],
   "source": [
    "np.unique(data_EagleBoys[:,1])==np.unique(data_Dominos[:,1])"
   ]
  },
  {
   "cell_type": "code",
   "execution_count": 22,
   "metadata": {},
   "outputs": [],
   "source": [
    "data_np[data_np[:,2] == \"SuperSupremo\", 2] = \"Supreme\"\n",
    "data_np[data_np[:,1] == \"ThinCrust\", 1] = \"Thin\"\n",
    "data_np[data_np[:,1] == \"MidCrust\", 1] = \"Mid\" \n",
    "data_np[data_np[:,1] == \"ThinNCrispy\", 1] = \"Thin\"\n",
    "data_np[data_np[:,1] == \"ClassicCrust\", 1] = \"Mid\""
   ]
  },
  {
   "cell_type": "code",
   "execution_count": 23,
   "metadata": {},
   "outputs": [
    {
     "data": {
      "text/plain": [
       "['Store', 'Crust', 'Topping', 'Diameter']"
      ]
     },
     "execution_count": 23,
     "metadata": {},
     "output_type": "execute_result"
    }
   ],
   "source": [
    "cols = data.columns.tolist()\n",
    "cols[1] = 'Crust'\n",
    "cols"
   ]
  },
  {
   "cell_type": "code",
   "execution_count": 24,
   "metadata": {},
   "outputs": [
    {
     "data": {
      "text/html": [
       "<div>\n",
       "<style scoped>\n",
       "    .dataframe tbody tr th:only-of-type {\n",
       "        vertical-align: middle;\n",
       "    }\n",
       "\n",
       "    .dataframe tbody tr th {\n",
       "        vertical-align: top;\n",
       "    }\n",
       "\n",
       "    .dataframe thead th {\n",
       "        text-align: right;\n",
       "    }\n",
       "</style>\n",
       "<table border=\"1\" class=\"dataframe\">\n",
       "  <thead>\n",
       "    <tr style=\"text-align: right;\">\n",
       "      <th></th>\n",
       "      <th>Store</th>\n",
       "      <th>Crust</th>\n",
       "      <th>Topping</th>\n",
       "      <th>Diameter</th>\n",
       "    </tr>\n",
       "  </thead>\n",
       "  <tbody>\n",
       "    <tr>\n",
       "      <th>0</th>\n",
       "      <td>Dominos</td>\n",
       "      <td>Thin</td>\n",
       "      <td>Supreme</td>\n",
       "      <td>29.4</td>\n",
       "    </tr>\n",
       "    <tr>\n",
       "      <th>1</th>\n",
       "      <td>Dominos</td>\n",
       "      <td>Thin</td>\n",
       "      <td>BBQMeatlovers</td>\n",
       "      <td>29.63</td>\n",
       "    </tr>\n",
       "    <tr>\n",
       "      <th>2</th>\n",
       "      <td>Dominos</td>\n",
       "      <td>DeepPan</td>\n",
       "      <td>Hawaiian</td>\n",
       "      <td>27.06</td>\n",
       "    </tr>\n",
       "    <tr>\n",
       "      <th>3</th>\n",
       "      <td>Dominos</td>\n",
       "      <td>Thin</td>\n",
       "      <td>Supreme</td>\n",
       "      <td>27.45</td>\n",
       "    </tr>\n",
       "    <tr>\n",
       "      <th>4</th>\n",
       "      <td>Dominos</td>\n",
       "      <td>Mid</td>\n",
       "      <td>Hawaiian</td>\n",
       "      <td>26.59</td>\n",
       "    </tr>\n",
       "    <tr>\n",
       "      <th>5</th>\n",
       "      <td>Dominos</td>\n",
       "      <td>DeepPan</td>\n",
       "      <td>BBQMeatlovers</td>\n",
       "      <td>27.16</td>\n",
       "    </tr>\n",
       "    <tr>\n",
       "      <th>6</th>\n",
       "      <td>EagleBoys</td>\n",
       "      <td>Mid</td>\n",
       "      <td>Supreme</td>\n",
       "      <td>29.15</td>\n",
       "    </tr>\n",
       "    <tr>\n",
       "      <th>7</th>\n",
       "      <td>EagleBoys</td>\n",
       "      <td>DeepPan</td>\n",
       "      <td>Hawaiian</td>\n",
       "      <td>28.78</td>\n",
       "    </tr>\n",
       "    <tr>\n",
       "      <th>8</th>\n",
       "      <td>EagleBoys</td>\n",
       "      <td>Thin</td>\n",
       "      <td>BBQMeatlovers</td>\n",
       "      <td>30.05</td>\n",
       "    </tr>\n",
       "    <tr>\n",
       "      <th>9</th>\n",
       "      <td>EagleBoys</td>\n",
       "      <td>DeepPan</td>\n",
       "      <td>BBQMeatlovers</td>\n",
       "      <td>29.38</td>\n",
       "    </tr>\n",
       "  </tbody>\n",
       "</table>\n",
       "</div>"
      ],
      "text/plain": [
       "       Store    Crust        Topping Diameter\n",
       "0    Dominos     Thin        Supreme     29.4\n",
       "1    Dominos     Thin  BBQMeatlovers    29.63\n",
       "2    Dominos  DeepPan       Hawaiian    27.06\n",
       "3    Dominos     Thin        Supreme    27.45\n",
       "4    Dominos      Mid       Hawaiian    26.59\n",
       "5    Dominos  DeepPan  BBQMeatlovers    27.16\n",
       "6  EagleBoys      Mid        Supreme    29.15\n",
       "7  EagleBoys  DeepPan       Hawaiian    28.78\n",
       "8  EagleBoys     Thin  BBQMeatlovers    30.05\n",
       "9  EagleBoys  DeepPan  BBQMeatlovers    29.38"
      ]
     },
     "execution_count": 24,
     "metadata": {},
     "output_type": "execute_result"
    }
   ],
   "source": [
    "Mod_Data = pd.DataFrame(data_np, columns=cols)\n",
    "Mod_Data.head(10)"
   ]
  },
  {
   "cell_type": "markdown",
   "metadata": {},
   "source": [
    "# Třídění podle Kůrky"
   ]
  },
  {
   "cell_type": "code",
   "execution_count": 29,
   "metadata": {},
   "outputs": [],
   "source": [
    "data_Dominos = np.array([i for i in data_np if i[0]==store1])\n",
    "data_EagleBoys = np.array([i for i in data_np if i[0]==store2])"
   ]
  },
  {
   "cell_type": "code",
   "execution_count": 33,
   "metadata": {},
   "outputs": [],
   "source": [
    "data_Dominos_Thin = np.array([i for i in data_Dominos if i[1]==\"Thin\"])\n",
    "data_Dominos_Mid = np.array([i for i in data_Dominos if i[1]==\"Mid\"])\n",
    "data_Dominos_DeepPan = np.array([i for i in data_Dominos if i[1]==\"DeepPan\"])"
   ]
  },
  {
   "cell_type": "code",
   "execution_count": 220,
   "metadata": {},
   "outputs": [
    {
     "data": {
      "text/plain": [
       "array([['Dominos', 'DeepPan', 'Hawaiian', 27.06],\n",
       "       ['Dominos', 'DeepPan', 'BBQMeatlovers', 27.16],\n",
       "       ['Dominos', 'DeepPan', 'BBQMeatlovers', 26.6],\n",
       "       ['Dominos', 'DeepPan', 'Supreme', 26.5],\n",
       "       ['Dominos', 'DeepPan', 'Supreme', 26.64]], dtype=object)"
      ]
     },
     "execution_count": 220,
     "metadata": {},
     "output_type": "execute_result"
    }
   ],
   "source": [
    "data_Dominos_DeepPan[:5]"
   ]
  },
  {
   "cell_type": "code",
   "execution_count": 35,
   "metadata": {},
   "outputs": [],
   "source": [
    "data_EagleBoys_Thin = np.array([i for i in data_EagleBoys if i[1]==\"Thin\"])\n",
    "data_EagleBoys_Mid = np.array([i for i in data_EagleBoys if i[1]==\"Mid\"])\n",
    "data_EagleBoys_DeepPan = np.array([i for i in data_EagleBoys if i[1]==\"DeepPan\"])"
   ]
  },
  {
   "cell_type": "code",
   "execution_count": 219,
   "metadata": {},
   "outputs": [
    {
     "data": {
      "text/plain": [
       "array([['EagleBoys', 'Thin', 'BBQMeatlovers', 30.05],\n",
       "       ['EagleBoys', 'Thin', 'Supreme', 29.14],\n",
       "       ['EagleBoys', 'Thin', 'Hawaiian', 29.98],\n",
       "       ['EagleBoys', 'Thin', 'Supreme', 29.47],\n",
       "       ['EagleBoys', 'Thin', 'Supreme', 30.0]], dtype=object)"
      ]
     },
     "execution_count": 219,
     "metadata": {},
     "output_type": "execute_result"
    }
   ],
   "source": [
    "data_EagleBoys_Thin[:5]"
   ]
  },
  {
   "cell_type": "code",
   "execution_count": 215,
   "metadata": {},
   "outputs": [],
   "source": [
    "matrix_Dominos = np.array([\n",
    "                   [\"Thin\",  len(data_Dominos_Thin[data_Dominos_Thin[:,2]== \"Hawaiian\"]), \n",
    "                    len(data_Dominos_Thin[data_Dominos_Thin[:,2]==\"Supreme\"]), \n",
    "                    len(data_Dominos_Thin[data_Dominos_Thin[:,2]==\"BBQMeatlovers\"]), \n",
    "                    len(data_Dominos[data_Dominos[:,1] == \"Thin\", -1])],\n",
    "                   \n",
    "                    [\"Mid\",  len(data_Dominos_Mid[data_Dominos_Mid[:,2]== \"Hawaiian\"]), \n",
    "                    len(data_Dominos_Mid[data_Dominos_Mid[:,2]==\"Supreme\"]), \n",
    "                    len(data_Dominos_Mid[data_Dominos_Mid[:,2]==\"BBQMeatlovers\"]), \n",
    "                    len(data_Dominos[data_Dominos[:,1] == \"Mid\", -1])],\n",
    "                    \n",
    "                    [\"DeepPan\",  len(data_Dominos_DeepPan[data_Dominos_DeepPan[:,2]== \"Hawaiian\"]), \n",
    "                    len(data_Dominos_DeepPan[data_Dominos_DeepPan[:,2]==\"Supreme\"]), \n",
    "                    len(data_Dominos_DeepPan[data_Dominos_DeepPan[:,2]==\"BBQMeatlovers\"]), \n",
    "                    len(data_Dominos[data_Dominos[:,1] == \"DeepPan\", -1])],\n",
    "                   \n",
    "                    [\"součty\", len(data_Dominos[data_Dominos[:,2] == \"Hawaiian\", -1]),\n",
    "                    len(data_Dominos[data_Dominos[:,2] == \"Supreme\", -1]),\n",
    "                    len(data_Dominos[data_Dominos[:,2] == \"BBQMeatlovers\", -1]),\n",
    "                    len(data_Dominos[:,-1])],\n",
    "\n",
    "                   \n",
    "                   \n",
    "                  ])"
   ]
  },
  {
   "cell_type": "code",
   "execution_count": 217,
   "metadata": {},
   "outputs": [
    {
     "data": {
      "text/html": [
       "<div>\n",
       "<style scoped>\n",
       "    .dataframe tbody tr th:only-of-type {\n",
       "        vertical-align: middle;\n",
       "    }\n",
       "\n",
       "    .dataframe tbody tr th {\n",
       "        vertical-align: top;\n",
       "    }\n",
       "\n",
       "    .dataframe thead th {\n",
       "        text-align: right;\n",
       "    }\n",
       "</style>\n",
       "<table border=\"1\" class=\"dataframe\">\n",
       "  <thead>\n",
       "    <tr style=\"text-align: right;\">\n",
       "      <th></th>\n",
       "      <th>Druh</th>\n",
       "      <th>Hawaiian</th>\n",
       "      <th>Supreme</th>\n",
       "      <th>BBQMeatlovers</th>\n",
       "      <th>součty</th>\n",
       "    </tr>\n",
       "  </thead>\n",
       "  <tbody>\n",
       "    <tr>\n",
       "      <th>0</th>\n",
       "      <td>Thin</td>\n",
       "      <td>14</td>\n",
       "      <td>15</td>\n",
       "      <td>14</td>\n",
       "      <td>43</td>\n",
       "    </tr>\n",
       "    <tr>\n",
       "      <th>1</th>\n",
       "      <td>Mid</td>\n",
       "      <td>14</td>\n",
       "      <td>13</td>\n",
       "      <td>15</td>\n",
       "      <td>42</td>\n",
       "    </tr>\n",
       "    <tr>\n",
       "      <th>2</th>\n",
       "      <td>DeepPan</td>\n",
       "      <td>13</td>\n",
       "      <td>13</td>\n",
       "      <td>14</td>\n",
       "      <td>40</td>\n",
       "    </tr>\n",
       "    <tr>\n",
       "      <th>3</th>\n",
       "      <td>součty</td>\n",
       "      <td>41</td>\n",
       "      <td>41</td>\n",
       "      <td>43</td>\n",
       "      <td>125</td>\n",
       "    </tr>\n",
       "  </tbody>\n",
       "</table>\n",
       "</div>"
      ],
      "text/plain": [
       "      Druh Hawaiian Supreme BBQMeatlovers součty\n",
       "0     Thin       14      15            14     43\n",
       "1      Mid       14      13            15     42\n",
       "2  DeepPan       13      13            14     40\n",
       "3   součty       41      41            43    125"
      ]
     },
     "execution_count": 217,
     "metadata": {},
     "output_type": "execute_result"
    }
   ],
   "source": [
    "pd.DataFrame(matrix_Dominos, columns=[ \"Druh\", \"Hawaiian\", \"Supreme\", \"BBQMeatlovers\", \"součty\"])"
   ]
  },
  {
   "cell_type": "code",
   "execution_count": 218,
   "metadata": {},
   "outputs": [
    {
     "data": {
      "text/plain": [
       "'\\\\begin{tabular}{lllll}\\n\\\\toprule\\n{} & Hawaiian & Supreme & BBQMeatlovers & součty \\\\\\\\\\nDruh    &          &         &               &        \\\\\\\\\\n\\\\midrule\\nThin    &       14 &      15 &            14 &     43 \\\\\\\\\\nMid     &       14 &      13 &            15 &     42 \\\\\\\\\\nDeepPan &       13 &      13 &            14 &     40 \\\\\\\\\\nsoučty  &       41 &      41 &            43 &    125 \\\\\\\\\\n\\\\bottomrule\\n\\\\end{tabular}\\n'"
      ]
     },
     "execution_count": 218,
     "metadata": {},
     "output_type": "execute_result"
    }
   ],
   "source": [
    "pd.DataFrame(matrix_Dominos, columns=[ \"Druh\", \"Hawaiian\", \"Supreme\", \"BBQMeatlovers\", \"součty\"]).set_index(\"Druh\").to_latex()"
   ]
  },
  {
   "cell_type": "code",
   "execution_count": 212,
   "metadata": {},
   "outputs": [],
   "source": [
    "matrix_EagleBoys = np.array([\n",
    "                   [\"Thin\",  len(data_EagleBoys_Thin[data_EagleBoys_Thin[:,2]== \"Hawaiian\"]), \n",
    "                    len(data_EagleBoys_Thin[data_EagleBoys_Thin[:,2]==\"Supreme\"]), \n",
    "                    len(data_EagleBoys_Thin[data_EagleBoys_Thin[:,2]==\"BBQMeatlovers\"]), \n",
    "                    len(data_EagleBoys[data_EagleBoys[:,1] == \"Thin\", -1])],\n",
    "                   \n",
    "                    [\"Mid\",  len(data_EagleBoys_Mid[data_EagleBoys_Mid[:,2]== \"Hawaiian\"]), \n",
    "                    len(data_EagleBoys_Mid[data_EagleBoys_Mid[:,2]==\"Supreme\"]), \n",
    "                    len(data_EagleBoys_Mid[data_EagleBoys_Mid[:,2]==\"BBQMeatlovers\"]), \n",
    "                    len(data_EagleBoys[data_EagleBoys[:,1] == \"Mid\", -1])],\n",
    "                    \n",
    "                    [\"DeepPan\",  len(data_EagleBoys_DeepPan[data_EagleBoys_DeepPan[:,2]== \"Hawaiian\"]), \n",
    "                    len(data_EagleBoys_DeepPan[data_EagleBoys_DeepPan[:,2]==\"Supreme\"]), \n",
    "                    len(data_EagleBoys_DeepPan[data_EagleBoys_DeepPan[:,2]==\"BBQMeatlovers\"]), \n",
    "                    len(data_EagleBoys[data_EagleBoys[:,1] == \"DeepPan\", -1])],\n",
    "                   \n",
    "                    [\"součty\", len(data_EagleBoys[data_EagleBoys[:,2] == \"Hawaiian\", -1]),\n",
    "                    len(data_EagleBoys[data_EagleBoys[:,2] == \"Supreme\", -1]),\n",
    "                    len(data_EagleBoys[data_EagleBoys[:,2] == \"BBQMeatlovers\", -1]),\n",
    "                    len(data_EagleBoys[:,-1])],\n",
    "\n",
    "                   \n",
    "                   \n",
    "                  ])"
   ]
  },
  {
   "cell_type": "code",
   "execution_count": 213,
   "metadata": {
    "scrolled": true
   },
   "outputs": [
    {
     "data": {
      "text/html": [
       "<div>\n",
       "<style scoped>\n",
       "    .dataframe tbody tr th:only-of-type {\n",
       "        vertical-align: middle;\n",
       "    }\n",
       "\n",
       "    .dataframe tbody tr th {\n",
       "        vertical-align: top;\n",
       "    }\n",
       "\n",
       "    .dataframe thead th {\n",
       "        text-align: right;\n",
       "    }\n",
       "</style>\n",
       "<table border=\"1\" class=\"dataframe\">\n",
       "  <thead>\n",
       "    <tr style=\"text-align: right;\">\n",
       "      <th></th>\n",
       "      <th>Hawaiian</th>\n",
       "      <th>Supreme</th>\n",
       "      <th>BBQMeatlovers</th>\n",
       "      <th>součty</th>\n",
       "    </tr>\n",
       "    <tr>\n",
       "      <th>Druh/Omáčka</th>\n",
       "      <th></th>\n",
       "      <th></th>\n",
       "      <th></th>\n",
       "      <th></th>\n",
       "    </tr>\n",
       "  </thead>\n",
       "  <tbody>\n",
       "    <tr>\n",
       "      <th>Thin</th>\n",
       "      <td>13</td>\n",
       "      <td>14</td>\n",
       "      <td>12</td>\n",
       "      <td>39</td>\n",
       "    </tr>\n",
       "    <tr>\n",
       "      <th>Mid</th>\n",
       "      <td>14</td>\n",
       "      <td>14</td>\n",
       "      <td>15</td>\n",
       "      <td>43</td>\n",
       "    </tr>\n",
       "    <tr>\n",
       "      <th>DeepPan</th>\n",
       "      <td>16</td>\n",
       "      <td>12</td>\n",
       "      <td>15</td>\n",
       "      <td>43</td>\n",
       "    </tr>\n",
       "    <tr>\n",
       "      <th>součty</th>\n",
       "      <td>43</td>\n",
       "      <td>40</td>\n",
       "      <td>42</td>\n",
       "      <td>125</td>\n",
       "    </tr>\n",
       "  </tbody>\n",
       "</table>\n",
       "</div>"
      ],
      "text/plain": [
       "            Hawaiian Supreme BBQMeatlovers součty\n",
       "Druh/Omáčka                                      \n",
       "Thin              13      14            12     39\n",
       "Mid               14      14            15     43\n",
       "DeepPan           16      12            15     43\n",
       "součty            43      40            42    125"
      ]
     },
     "execution_count": 213,
     "metadata": {},
     "output_type": "execute_result"
    }
   ],
   "source": [
    "pd.DataFrame(matrix_EagleBoys, columns=[ \"Druh/Omáčka\", \"Hawaiian\", \"Supreme\", \"BBQMeatlovers\", \"součty\"]).set_index(\"Druh/Omáčka\")"
   ]
  },
  {
   "cell_type": "code",
   "execution_count": 214,
   "metadata": {},
   "outputs": [
    {
     "data": {
      "text/plain": [
       "'\\\\begin{tabular}{lllll}\\n\\\\toprule\\n{} & Hawaiian & Supreme & BBQMeatlovers & součty \\\\\\\\\\nDruh/Omáčka &          &         &               &        \\\\\\\\\\n\\\\midrule\\nThin        &       13 &      14 &            12 &     39 \\\\\\\\\\nMid         &       14 &      14 &            15 &     43 \\\\\\\\\\nDeepPan     &       16 &      12 &            15 &     43 \\\\\\\\\\nsoučty      &       43 &      40 &            42 &    125 \\\\\\\\\\n\\\\bottomrule\\n\\\\end{tabular}\\n'"
      ]
     },
     "execution_count": 214,
     "metadata": {},
     "output_type": "execute_result"
    }
   ],
   "source": [
    "pd.DataFrame(matrix_EagleBoys, columns=[ \"Druh/Omáčka\", \"Hawaiian\", \"Supreme\", \"BBQMeatlovers\", \"součty\"]).set_index(\"Druh/Omáčka\").to_latex()"
   ]
  },
  {
   "cell_type": "code",
   "execution_count": 127,
   "metadata": {},
   "outputs": [],
   "source": [
    "#np.save(\"matrix_EagleBoys_original.npy\", matrix_EagleBoys)"
   ]
  },
  {
   "cell_type": "code",
   "execution_count": 146,
   "metadata": {},
   "outputs": [],
   "source": [
    "matrix_Dominos_means = np.array([\n",
    "                   [\"Thin\",  round(data_Dominos_Thin[data_Dominos_Thin[:,2]== \"Hawaiian\"][:,3].mean(), 2), \n",
    "                    round(data_Dominos_Thin[data_Dominos_Thin[:,2]==\"Supreme\"][:,3].mean(), 2), \n",
    "                    round(data_Dominos_Thin[data_Dominos_Thin[:,2]==\"BBQMeatlovers\"][:,3].mean(), 2), \n",
    "                    round(data_Dominos[data_Dominos[:,1] == \"Thin\", -1].mean(), 2)],\n",
    "                   \n",
    "                    [\"Mid\",  round(data_Dominos_Mid[data_Dominos_Mid[:,2]== \"Hawaiian\"][:,3].mean(), 2), \n",
    "                    round(data_Dominos_Mid[data_Dominos_Mid[:,2]==\"Supreme\"][:,3].mean(), 2), \n",
    "                    round(data_Dominos_Mid[data_Dominos_Mid[:,2]==\"BBQMeatlovers\"][:,3].mean(), 2), \n",
    "                    round(data_Dominos[data_Dominos[:,1] == \"Mid\", -1].mean(), 2)],\n",
    "                    \n",
    "                    [\"DeepPan\",  round(data_Dominos_DeepPan[data_Dominos_DeepPan[:,2]== \"Hawaiian\"][:,3].mean(), 2), \n",
    "                    round(data_Dominos_DeepPan[data_Dominos_DeepPan[:,2]==\"Supreme\"][:,3].mean(), 2), \n",
    "                    round(data_Dominos_DeepPan[data_Dominos_DeepPan[:,2]==\"BBQMeatlovers\"][:,3].mean(), 2), \n",
    "                    round(data_Dominos[data_Dominos[:,1] == \"DeepPan\", -1].mean(), 2)],\n",
    "                   \n",
    "                    [\"průměr\", round(data_Dominos[data_Dominos[:,2] == \"Hawaiian\", -1].mean(), 2),\n",
    "                    round(data_Dominos[data_Dominos[:,2] == \"Supreme\", -1].mean(), 2),\n",
    "                    round(data_Dominos[data_Dominos[:,2] == \"BBQMeatlovers\", -1].mean(), 2),\n",
    "                    round(data_Dominos[:,-1].mean(), 2)]\n",
    "                   \n",
    "                  ])\n",
    "\n"
   ]
  },
  {
   "cell_type": "code",
   "execution_count": 149,
   "metadata": {},
   "outputs": [
    {
     "data": {
      "text/html": [
       "<div>\n",
       "<style scoped>\n",
       "    .dataframe tbody tr th:only-of-type {\n",
       "        vertical-align: middle;\n",
       "    }\n",
       "\n",
       "    .dataframe tbody tr th {\n",
       "        vertical-align: top;\n",
       "    }\n",
       "\n",
       "    .dataframe thead th {\n",
       "        text-align: right;\n",
       "    }\n",
       "</style>\n",
       "<table border=\"1\" class=\"dataframe\">\n",
       "  <thead>\n",
       "    <tr style=\"text-align: right;\">\n",
       "      <th></th>\n",
       "      <th>Druh/Omáčka</th>\n",
       "      <th>Hawaiian</th>\n",
       "      <th>Supreme</th>\n",
       "      <th>BBQMeatlovers</th>\n",
       "      <th>průměr</th>\n",
       "    </tr>\n",
       "  </thead>\n",
       "  <tbody>\n",
       "    <tr>\n",
       "      <th>0</th>\n",
       "      <td>Thin</td>\n",
       "      <td>28.83</td>\n",
       "      <td>28.75</td>\n",
       "      <td>28.86</td>\n",
       "      <td>28.81</td>\n",
       "    </tr>\n",
       "    <tr>\n",
       "      <th>1</th>\n",
       "      <td>Mid</td>\n",
       "      <td>26.58</td>\n",
       "      <td>27.1</td>\n",
       "      <td>26.62</td>\n",
       "      <td>26.75</td>\n",
       "    </tr>\n",
       "    <tr>\n",
       "      <th>2</th>\n",
       "      <td>DeepPan</td>\n",
       "      <td>26.63</td>\n",
       "      <td>26.79</td>\n",
       "      <td>26.65</td>\n",
       "      <td>26.69</td>\n",
       "    </tr>\n",
       "    <tr>\n",
       "      <th>3</th>\n",
       "      <td>průměr</td>\n",
       "      <td>27.36</td>\n",
       "      <td>27.61</td>\n",
       "      <td>27.36</td>\n",
       "      <td>27.44</td>\n",
       "    </tr>\n",
       "  </tbody>\n",
       "</table>\n",
       "</div>"
      ],
      "text/plain": [
       "  Druh/Omáčka Hawaiian Supreme BBQMeatlovers průměr\n",
       "0        Thin    28.83   28.75         28.86  28.81\n",
       "1         Mid    26.58    27.1         26.62  26.75\n",
       "2     DeepPan    26.63   26.79         26.65  26.69\n",
       "3      průměr    27.36   27.61         27.36  27.44"
      ]
     },
     "execution_count": 149,
     "metadata": {},
     "output_type": "execute_result"
    }
   ],
   "source": [
    "pd.DataFrame(matrix_Dominos_means, columns=[ \"Druh/Omáčka\", \"Hawaiian\", \"Supreme\", \"BBQMeatlovers\", \"průměr\"])"
   ]
  },
  {
   "cell_type": "code",
   "execution_count": 150,
   "metadata": {},
   "outputs": [],
   "source": [
    "matrix_EagleBoys_means = np.array([\n",
    "                   [\"Thin\",  round(data_EagleBoys_Thin[data_EagleBoys_Thin[:,2]== \"Hawaiian\"][:,3].mean(), 2), \n",
    "                    round(data_EagleBoys_Thin[data_EagleBoys_Thin[:,2]==\"Supreme\"][:,3].mean(), 2), \n",
    "                    round(data_EagleBoys_Thin[data_EagleBoys_Thin[:,2]==\"BBQMeatlovers\"][:,3].mean(), 2), \n",
    "                    round(data_EagleBoys[data_EagleBoys[:,1] == \"Thin\", -1].mean(), 2)],\n",
    "                   \n",
    "                    [\"Mid\",  round(data_EagleBoys_Mid[data_EagleBoys_Mid[:,2]== \"Hawaiian\"][:,3].mean(), 2), \n",
    "                    round(data_EagleBoys_Mid[data_EagleBoys_Mid[:,2]==\"Supreme\"][:,3].mean(), 2), \n",
    "                    round(data_EagleBoys_Mid[data_EagleBoys_Mid[:,2]==\"BBQMeatlovers\"][:,3].mean(), 2), \n",
    "                    round(data_EagleBoys[data_EagleBoys[:,1] == \"Mid\", -1].mean(), 2)],\n",
    "                    \n",
    "                    [\"DeepPan\",  round(data_EagleBoys_DeepPan[data_EagleBoys_DeepPan[:,2]== \"Hawaiian\"][:,3].mean(), 2), \n",
    "                    round(data_EagleBoys_DeepPan[data_EagleBoys_DeepPan[:,2]==\"Supreme\"][:,3].mean(), 2), \n",
    "                    round(data_EagleBoys_DeepPan[data_EagleBoys_DeepPan[:,2]==\"BBQMeatlovers\"][:,3].mean(), 2), \n",
    "                    round(data_EagleBoys[data_EagleBoys[:,1] == \"DeepPan\", -1].mean(), 2)],\n",
    "                   \n",
    "                    [\"průměr\", round(data_EagleBoys[data_EagleBoys[:,2] == \"Hawaiian\", -1].mean(), 2),\n",
    "                    round(data_EagleBoys[data_EagleBoys[:,2] == \"Supreme\", -1].mean(), 2),\n",
    "                    round(data_EagleBoys[data_EagleBoys[:,2] == \"BBQMeatlovers\", -1].mean(), 2),\n",
    "                    round(data_EagleBoys[:,-1].mean(), 2)]\n",
    "                   \n",
    "                  ])\n",
    "\n"
   ]
  },
  {
   "cell_type": "code",
   "execution_count": 151,
   "metadata": {},
   "outputs": [
    {
     "data": {
      "text/html": [
       "<div>\n",
       "<style scoped>\n",
       "    .dataframe tbody tr th:only-of-type {\n",
       "        vertical-align: middle;\n",
       "    }\n",
       "\n",
       "    .dataframe tbody tr th {\n",
       "        vertical-align: top;\n",
       "    }\n",
       "\n",
       "    .dataframe thead th {\n",
       "        text-align: right;\n",
       "    }\n",
       "</style>\n",
       "<table border=\"1\" class=\"dataframe\">\n",
       "  <thead>\n",
       "    <tr style=\"text-align: right;\">\n",
       "      <th></th>\n",
       "      <th>Druh/Omáčka</th>\n",
       "      <th>Hawaiian</th>\n",
       "      <th>Supreme</th>\n",
       "      <th>BBQMeatlovers</th>\n",
       "      <th>průměr</th>\n",
       "    </tr>\n",
       "  </thead>\n",
       "  <tbody>\n",
       "    <tr>\n",
       "      <th>0</th>\n",
       "      <td>Thin</td>\n",
       "      <td>29.68</td>\n",
       "      <td>29.72</td>\n",
       "      <td>29.7</td>\n",
       "      <td>29.7</td>\n",
       "    </tr>\n",
       "    <tr>\n",
       "      <th>1</th>\n",
       "      <td>Mid</td>\n",
       "      <td>28.84</td>\n",
       "      <td>28.62</td>\n",
       "      <td>28.88</td>\n",
       "      <td>28.78</td>\n",
       "    </tr>\n",
       "    <tr>\n",
       "      <th>2</th>\n",
       "      <td>DeepPan</td>\n",
       "      <td>29.15</td>\n",
       "      <td>29.09</td>\n",
       "      <td>29.02</td>\n",
       "      <td>29.09</td>\n",
       "    </tr>\n",
       "    <tr>\n",
       "      <th>3</th>\n",
       "      <td>průměr</td>\n",
       "      <td>29.21</td>\n",
       "      <td>29.15</td>\n",
       "      <td>29.16</td>\n",
       "      <td>29.17</td>\n",
       "    </tr>\n",
       "  </tbody>\n",
       "</table>\n",
       "</div>"
      ],
      "text/plain": [
       "  Druh/Omáčka Hawaiian Supreme BBQMeatlovers průměr\n",
       "0        Thin    29.68   29.72          29.7   29.7\n",
       "1         Mid    28.84   28.62         28.88  28.78\n",
       "2     DeepPan    29.15   29.09         29.02  29.09\n",
       "3      průměr    29.21   29.15         29.16  29.17"
      ]
     },
     "execution_count": 151,
     "metadata": {},
     "output_type": "execute_result"
    }
   ],
   "source": [
    "pd.DataFrame(matrix_EagleBoys_means, columns=[ \"Druh/Omáčka\", \"Hawaiian\", \"Supreme\", \"BBQMeatlovers\", \"průměr\"])"
   ]
  },
  {
   "cell_type": "code",
   "execution_count": 165,
   "metadata": {},
   "outputs": [
    {
     "data": {
      "text/plain": [
       "'\\\\begin{tabular}{llllll}\\n\\\\toprule\\n{} & Druh/Omáčka & Hawaiian & Supreme & BBQMeatlovers & průměr \\\\\\\\\\n\\\\midrule\\n0 &        Thin &    28.83 &   28.75 &         28.86 &  28.81 \\\\\\\\\\n1 &         Mid &    26.58 &    27.1 &         26.62 &  26.75 \\\\\\\\\\n2 &     DeepPan &    26.63 &   26.79 &         26.65 &  26.69 \\\\\\\\\\n3 &      průměr &    27.36 &   27.61 &         27.36 &  27.44 \\\\\\\\\\n\\\\bottomrule\\n\\\\end{tabular}\\n'"
      ]
     },
     "execution_count": 165,
     "metadata": {},
     "output_type": "execute_result"
    }
   ],
   "source": [
    "pd.DataFrame(matrix_Dominos_means, columns=[ \"Druh/Omáčka\", \"Hawaiian\", \"Supreme\", \"BBQMeatlovers\", \"průměr\"]).to_latex()"
   ]
  },
  {
   "cell_type": "code",
   "execution_count": 166,
   "metadata": {
    "scrolled": true
   },
   "outputs": [
    {
     "data": {
      "text/plain": [
       "'\\\\begin{tabular}{lllll}\\n\\\\toprule\\n{} & Hawaiian & Supreme & BBQMeatlovers & průměr \\\\\\\\\\nDruh/Omáčka &          &         &               &        \\\\\\\\\\n\\\\midrule\\nThin        &    29.68 &   29.72 &          29.7 &   29.7 \\\\\\\\\\nMid         &    28.84 &   28.62 &         28.88 &  28.78 \\\\\\\\\\nDeepPan     &    29.15 &   29.09 &         29.02 &  29.09 \\\\\\\\\\nprůměr      &    29.21 &   29.15 &         29.16 &  29.17 \\\\\\\\\\n\\\\bottomrule\\n\\\\end{tabular}\\n'"
      ]
     },
     "execution_count": 166,
     "metadata": {},
     "output_type": "execute_result"
    }
   ],
   "source": [
    "pd.DataFrame(matrix_EagleBoys_means, columns=[ \"Druh/Omáčka\", \"Hawaiian\", \"Supreme\", \"BBQMeatlovers\", \"průměr\"]).set_index(\"Druh/Omáčka\").to_latex()"
   ]
  },
  {
   "cell_type": "markdown",
   "metadata": {},
   "source": [
    "# Boxploty "
   ]
  },
  {
   "cell_type": "code",
   "execution_count": 210,
   "metadata": {},
   "outputs": [
    {
     "data": {
      "image/png": "[encoded data removed]",
      "text/plain": [
       "<Figure size 432x288 with 1 Axes>"
      ]
     },
     "metadata": {},
     "output_type": "display_data"
    }
   ],
   "source": [
    "plt.figure(\"Boxploty EagleBoys\")\n",
    "plt.boxplot([np.array(data_EagleBoys[data_EagleBoys[:,1] == \"Thin\", -1],ndmin=2).T,\n",
    "             np.array(data_EagleBoys[data_EagleBoys[:,1] == \"Mid\", -1],ndmin=2).T,\n",
    "             np.array(data_EagleBoys[data_EagleBoys[:,1] == \"DeepPan\", -1],ndmin=2).T], \n",
    "            labels=[\"Thin\", \"Mid\", \"DeepPan\"])\n",
    "plt.show()"
   ]
  },
  {
   "cell_type": "code",
   "execution_count": 211,
   "metadata": {},
   "outputs": [
    {
     "data": {
      "image/png": "[encoded data removed]",
      "text/plain": [
       "<Figure size 432x288 with 1 Axes>"
      ]
     },
     "metadata": {},
     "output_type": "display_data"
    }
   ],
   "source": [
    "plt.figure(\"Boxploty Dominos\")\n",
    "plt.boxplot([np.array(data_Dominos[data_Dominos[:,1] == \"Thin\", -1],ndmin=2).T,\n",
    "             np.array(data_Dominos[data_Dominos[:,1] == \"Mid\", -1],ndmin=2).T,\n",
    "             np.array(data_Dominos[data_Dominos[:,1] == \"DeepPan\", -1],ndmin=2).T], \n",
    "            labels=[\"Thin\", \"Mid\", \"DeepPan\"])\n",
    "plt.show()"
   ]
  },
  {
   "cell_type": "code",
   "execution_count": null,
   "metadata": {},
   "outputs": [],
   "source": []
  }
 ],
 "metadata": {
  "kernelspec": {
   "display_name": "Python 3",
   "language": "python",
   "name": "python3"
  },
  "language_info": {
   "codemirror_mode": {
    "name": "ipython",
    "version": 3
   },
   "file_extension": ".py",
   "mimetype": "text/x-python",
   "name": "python",
   "nbconvert_exporter": "python",
   "pygments_lexer": "ipython3",
   "version": "3.6.5"
  }
 },
 "nbformat": 4,
 "nbformat_minor": 2
}
