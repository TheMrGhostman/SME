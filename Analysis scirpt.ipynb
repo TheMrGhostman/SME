{
 "cells": [
  {
   "cell_type": "code",
   "execution_count": 199,
   "metadata": {},
   "outputs": [
    {
     "name": "stdout",
     "output_type": "stream",
     "text": [
      "Populating the interactive namespace from numpy and matplotlib\n"
     ]
    }
   ],
   "source": [
    "%pylab --no-import-all notebook\n",
    "import pandas as pd \n",
    "#import matplotlib.pyplot as plt\n",
    "import os\n",
    "#import numpy as np\n",
    "from scipy import stats"
   ]
  },
  {
   "cell_type": "code",
   "execution_count": 3,
   "metadata": {
    "scrolled": true
   },
   "outputs": [
    {
     "data": {
      "text/plain": [
       "['.DS_Store', 'pizzasize.csv', 'pizzasize.txt']"
      ]
     },
     "execution_count": 3,
     "metadata": {},
     "output_type": "execute_result"
    }
   ],
   "source": [
    "path = os.getcwd()+\"/Data12/\"\n",
    "os.listdir(path)"
   ]
  },
  {
   "cell_type": "markdown",
   "metadata": {},
   "source": [
    "# Načtení dat"
   ]
  },
  {
   "cell_type": "code",
   "execution_count": 4,
   "metadata": {
    "collapsed": true
   },
   "outputs": [],
   "source": [
    "data = pd.read_csv(path + \"pizzasize.csv\")"
   ]
  },
  {
   "cell_type": "code",
   "execution_count": 5,
   "metadata": {
    "collapsed": true
   },
   "outputs": [],
   "source": [
    "data.set_index(\"ID\", inplace=True)"
   ]
  },
  {
   "cell_type": "code",
   "execution_count": 6,
   "metadata": {},
   "outputs": [
    {
     "data": {
      "text/html": [
       "<div>\n",
       "<style>\n",
       "    .dataframe thead tr:only-child th {\n",
       "        text-align: right;\n",
       "    }\n",
       "\n",
       "    .dataframe thead th {\n",
       "        text-align: left;\n",
       "    }\n",
       "\n",
       "    .dataframe tbody tr th {\n",
       "        vertical-align: top;\n",
       "    }\n",
       "</style>\n",
       "<table border=\"1\" class=\"dataframe\">\n",
       "  <thead>\n",
       "    <tr style=\"text-align: right;\">\n",
       "      <th></th>\n",
       "      <th>Store</th>\n",
       "      <th>CrustDescription</th>\n",
       "      <th>Topping</th>\n",
       "      <th>Diameter</th>\n",
       "    </tr>\n",
       "    <tr>\n",
       "      <th>ID</th>\n",
       "      <th></th>\n",
       "      <th></th>\n",
       "      <th></th>\n",
       "      <th></th>\n",
       "    </tr>\n",
       "  </thead>\n",
       "  <tbody>\n",
       "    <tr>\n",
       "      <th>1</th>\n",
       "      <td>Dominos</td>\n",
       "      <td>ThinNCrispy</td>\n",
       "      <td>Supreme</td>\n",
       "      <td>29.40</td>\n",
       "    </tr>\n",
       "    <tr>\n",
       "      <th>2</th>\n",
       "      <td>Dominos</td>\n",
       "      <td>ThinNCrispy</td>\n",
       "      <td>BBQMeatlovers</td>\n",
       "      <td>29.63</td>\n",
       "    </tr>\n",
       "    <tr>\n",
       "      <th>3</th>\n",
       "      <td>Dominos</td>\n",
       "      <td>DeepPan</td>\n",
       "      <td>Hawaiian</td>\n",
       "      <td>27.06</td>\n",
       "    </tr>\n",
       "    <tr>\n",
       "      <th>4</th>\n",
       "      <td>Dominos</td>\n",
       "      <td>ThinNCrispy</td>\n",
       "      <td>Supreme</td>\n",
       "      <td>27.45</td>\n",
       "    </tr>\n",
       "    <tr>\n",
       "      <th>5</th>\n",
       "      <td>Dominos</td>\n",
       "      <td>ClassicCrust</td>\n",
       "      <td>Hawaiian</td>\n",
       "      <td>26.59</td>\n",
       "    </tr>\n",
       "  </tbody>\n",
       "</table>\n",
       "</div>"
      ],
      "text/plain": [
       "      Store CrustDescription        Topping  Diameter\n",
       "ID                                                   \n",
       "1   Dominos      ThinNCrispy        Supreme     29.40\n",
       "2   Dominos      ThinNCrispy  BBQMeatlovers     29.63\n",
       "3   Dominos          DeepPan       Hawaiian     27.06\n",
       "4   Dominos      ThinNCrispy        Supreme     27.45\n",
       "5   Dominos     ClassicCrust       Hawaiian     26.59"
      ]
     },
     "execution_count": 6,
     "metadata": {},
     "output_type": "execute_result"
    }
   ],
   "source": [
    "data.head(5)"
   ]
  },
  {
   "cell_type": "code",
   "execution_count": 7,
   "metadata": {},
   "outputs": [
    {
     "name": "stdout",
     "output_type": "stream",
     "text": [
      "Dominos EagleBoys\n"
     ]
    }
   ],
   "source": [
    "store1, store2 = pd.unique(data[\"Store\"])\n",
    "print(store1, store2)"
   ]
  },
  {
   "cell_type": "code",
   "execution_count": 8,
   "metadata": {
    "collapsed": true
   },
   "outputs": [],
   "source": [
    "data_np = np.array(data)"
   ]
  },
  {
   "cell_type": "markdown",
   "metadata": {},
   "source": [
    "# Rozdělení dat podle řetězců"
   ]
  },
  {
   "cell_type": "code",
   "execution_count": 9,
   "metadata": {
    "collapsed": true
   },
   "outputs": [],
   "source": [
    "data_Dominos = np.array([i for i in data_np if i[0]==store1])\n",
    "data_EagleBoys = np.array([i for i in data_np if i[0]==store2])"
   ]
  },
  {
   "cell_type": "markdown",
   "metadata": {},
   "source": [
    "# Přejmenování"
   ]
  },
  {
   "cell_type": "code",
   "execution_count": 10,
   "metadata": {},
   "outputs": [
    {
     "data": {
      "text/plain": [
       "array(['ClassicCrust', 'DeepPan', 'ThinNCrispy'], dtype=object)"
      ]
     },
     "execution_count": 10,
     "metadata": {},
     "output_type": "execute_result"
    }
   ],
   "source": [
    "np.unique(data_Dominos[:,1])"
   ]
  },
  {
   "cell_type": "code",
   "execution_count": 11,
   "metadata": {},
   "outputs": [
    {
     "data": {
      "text/plain": [
       "array(['DeepPan', 'MidCrust', 'ThinCrust'], dtype=object)"
      ]
     },
     "execution_count": 11,
     "metadata": {},
     "output_type": "execute_result"
    }
   ],
   "source": [
    "np.unique(data_EagleBoys[:,1])"
   ]
  },
  {
   "cell_type": "code",
   "execution_count": 12,
   "metadata": {},
   "outputs": [
    {
     "data": {
      "text/plain": [
       "array(['BBQMeatlovers', 'Hawaiian', 'Supreme'], dtype=object)"
      ]
     },
     "execution_count": 12,
     "metadata": {},
     "output_type": "execute_result"
    }
   ],
   "source": [
    "np.unique(data_Dominos[:,2])"
   ]
  },
  {
   "cell_type": "code",
   "execution_count": 13,
   "metadata": {},
   "outputs": [
    {
     "data": {
      "text/plain": [
       "array(['BBQMeatlovers', 'Hawaiian', 'SuperSupremo'], dtype=object)"
      ]
     },
     "execution_count": 13,
     "metadata": {},
     "output_type": "execute_result"
    }
   ],
   "source": [
    "np.unique(data_EagleBoys[:,2])"
   ]
  },
  {
   "cell_type": "code",
   "execution_count": 14,
   "metadata": {
    "collapsed": true
   },
   "outputs": [],
   "source": [
    "data_EagleBoys[data_EagleBoys[:,2] == \"SuperSupremo\", 2] = \"Supreme\"\n",
    "data_EagleBoys[data_EagleBoys[:,1] == \"ThinCrust\", 1] = \"Thin\"\n",
    "data_EagleBoys[data_EagleBoys[:,1] == \"MidCrust\", 1] = \"Mid\""
   ]
  },
  {
   "cell_type": "code",
   "execution_count": 15,
   "metadata": {
    "collapsed": true
   },
   "outputs": [],
   "source": [
    "data_Dominos[data_Dominos[:,1] == \"ThinNCrispy\", 1] = \"Thin\"\n",
    "data_Dominos[data_Dominos[:,1] == \"ClassicCrust\", 1] = \"Mid\""
   ]
  },
  {
   "cell_type": "code",
   "execution_count": 16,
   "metadata": {},
   "outputs": [
    {
     "data": {
      "text/plain": [
       "array([ True,  True,  True])"
      ]
     },
     "execution_count": 16,
     "metadata": {},
     "output_type": "execute_result"
    }
   ],
   "source": [
    "np.unique(data_EagleBoys[:,1])==np.unique(data_Dominos[:,1])"
   ]
  },
  {
   "cell_type": "code",
   "execution_count": 17,
   "metadata": {
    "collapsed": true
   },
   "outputs": [],
   "source": [
    "data_np[data_np[:,2] == \"SuperSupremo\", 2] = \"Supreme\"\n",
    "data_np[data_np[:,1] == \"ThinCrust\", 1] = \"Thin\"\n",
    "data_np[data_np[:,1] == \"MidCrust\", 1] = \"Mid\" \n",
    "data_np[data_np[:,1] == \"ThinNCrispy\", 1] = \"Thin\"\n",
    "data_np[data_np[:,1] == \"ClassicCrust\", 1] = \"Mid\""
   ]
  },
  {
   "cell_type": "code",
   "execution_count": 18,
   "metadata": {},
   "outputs": [
    {
     "data": {
      "text/plain": [
       "['Store', 'Crust', 'Topping', 'Diameter']"
      ]
     },
     "execution_count": 18,
     "metadata": {},
     "output_type": "execute_result"
    }
   ],
   "source": [
    "cols = data.columns.tolist()\n",
    "cols[1] = 'Crust'\n",
    "cols"
   ]
  },
  {
   "cell_type": "code",
   "execution_count": 19,
   "metadata": {},
   "outputs": [
    {
     "data": {
      "text/html": [
       "<div>\n",
       "<style>\n",
       "    .dataframe thead tr:only-child th {\n",
       "        text-align: right;\n",
       "    }\n",
       "\n",
       "    .dataframe thead th {\n",
       "        text-align: left;\n",
       "    }\n",
       "\n",
       "    .dataframe tbody tr th {\n",
       "        vertical-align: top;\n",
       "    }\n",
       "</style>\n",
       "<table border=\"1\" class=\"dataframe\">\n",
       "  <thead>\n",
       "    <tr style=\"text-align: right;\">\n",
       "      <th></th>\n",
       "      <th>Store</th>\n",
       "      <th>Crust</th>\n",
       "      <th>Topping</th>\n",
       "      <th>Diameter</th>\n",
       "    </tr>\n",
       "  </thead>\n",
       "  <tbody>\n",
       "    <tr>\n",
       "      <th>0</th>\n",
       "      <td>Dominos</td>\n",
       "      <td>Thin</td>\n",
       "      <td>Supreme</td>\n",
       "      <td>29.4</td>\n",
       "    </tr>\n",
       "    <tr>\n",
       "      <th>1</th>\n",
       "      <td>Dominos</td>\n",
       "      <td>Thin</td>\n",
       "      <td>BBQMeatlovers</td>\n",
       "      <td>29.63</td>\n",
       "    </tr>\n",
       "    <tr>\n",
       "      <th>2</th>\n",
       "      <td>Dominos</td>\n",
       "      <td>DeepPan</td>\n",
       "      <td>Hawaiian</td>\n",
       "      <td>27.06</td>\n",
       "    </tr>\n",
       "    <tr>\n",
       "      <th>3</th>\n",
       "      <td>Dominos</td>\n",
       "      <td>Thin</td>\n",
       "      <td>Supreme</td>\n",
       "      <td>27.45</td>\n",
       "    </tr>\n",
       "    <tr>\n",
       "      <th>4</th>\n",
       "      <td>Dominos</td>\n",
       "      <td>Mid</td>\n",
       "      <td>Hawaiian</td>\n",
       "      <td>26.59</td>\n",
       "    </tr>\n",
       "    <tr>\n",
       "      <th>5</th>\n",
       "      <td>Dominos</td>\n",
       "      <td>DeepPan</td>\n",
       "      <td>BBQMeatlovers</td>\n",
       "      <td>27.16</td>\n",
       "    </tr>\n",
       "    <tr>\n",
       "      <th>6</th>\n",
       "      <td>EagleBoys</td>\n",
       "      <td>Mid</td>\n",
       "      <td>Supreme</td>\n",
       "      <td>29.15</td>\n",
       "    </tr>\n",
       "    <tr>\n",
       "      <th>7</th>\n",
       "      <td>EagleBoys</td>\n",
       "      <td>DeepPan</td>\n",
       "      <td>Hawaiian</td>\n",
       "      <td>28.78</td>\n",
       "    </tr>\n",
       "    <tr>\n",
       "      <th>8</th>\n",
       "      <td>EagleBoys</td>\n",
       "      <td>Thin</td>\n",
       "      <td>BBQMeatlovers</td>\n",
       "      <td>30.05</td>\n",
       "    </tr>\n",
       "    <tr>\n",
       "      <th>9</th>\n",
       "      <td>EagleBoys</td>\n",
       "      <td>DeepPan</td>\n",
       "      <td>BBQMeatlovers</td>\n",
       "      <td>29.38</td>\n",
       "    </tr>\n",
       "  </tbody>\n",
       "</table>\n",
       "</div>"
      ],
      "text/plain": [
       "       Store    Crust        Topping Diameter\n",
       "0    Dominos     Thin        Supreme     29.4\n",
       "1    Dominos     Thin  BBQMeatlovers    29.63\n",
       "2    Dominos  DeepPan       Hawaiian    27.06\n",
       "3    Dominos     Thin        Supreme    27.45\n",
       "4    Dominos      Mid       Hawaiian    26.59\n",
       "5    Dominos  DeepPan  BBQMeatlovers    27.16\n",
       "6  EagleBoys      Mid        Supreme    29.15\n",
       "7  EagleBoys  DeepPan       Hawaiian    28.78\n",
       "8  EagleBoys     Thin  BBQMeatlovers    30.05\n",
       "9  EagleBoys  DeepPan  BBQMeatlovers    29.38"
      ]
     },
     "execution_count": 19,
     "metadata": {},
     "output_type": "execute_result"
    }
   ],
   "source": [
    "Mod_Data = pd.DataFrame(data_np, columns=cols)\n",
    "Mod_Data.head(10)"
   ]
  },
  {
   "cell_type": "markdown",
   "metadata": {},
   "source": [
    "# Třídění podle Kůrky"
   ]
  },
  {
   "cell_type": "code",
   "execution_count": 20,
   "metadata": {
    "collapsed": true
   },
   "outputs": [],
   "source": [
    "data_Dominos = np.array([i for i in data_np if i[0]==store1])\n",
    "data_EagleBoys = np.array([i for i in data_np if i[0]==store2])"
   ]
  },
  {
   "cell_type": "code",
   "execution_count": 21,
   "metadata": {
    "collapsed": true
   },
   "outputs": [],
   "source": [
    "data_Dominos_Thin = np.array([i for i in data_Dominos if i[1]==\"Thin\"])\n",
    "data_Dominos_Mid = np.array([i for i in data_Dominos if i[1]==\"Mid\"])\n",
    "data_Dominos_DeepPan = np.array([i for i in data_Dominos if i[1]==\"DeepPan\"])"
   ]
  },
  {
   "cell_type": "code",
   "execution_count": 22,
   "metadata": {},
   "outputs": [
    {
     "data": {
      "text/plain": [
       "array([['Dominos', 'DeepPan', 'Hawaiian', 27.06],\n",
       "       ['Dominos', 'DeepPan', 'BBQMeatlovers', 27.16],\n",
       "       ['Dominos', 'DeepPan', 'BBQMeatlovers', 26.6],\n",
       "       ['Dominos', 'DeepPan', 'Supreme', 26.5],\n",
       "       ['Dominos', 'DeepPan', 'Supreme', 26.64]], dtype=object)"
      ]
     },
     "execution_count": 22,
     "metadata": {},
     "output_type": "execute_result"
    }
   ],
   "source": [
    "data_Dominos_DeepPan[:5]"
   ]
  },
  {
   "cell_type": "code",
   "execution_count": 23,
   "metadata": {
    "collapsed": true
   },
   "outputs": [],
   "source": [
    "data_EagleBoys_Thin = np.array([i for i in data_EagleBoys if i[1]==\"Thin\"])\n",
    "data_EagleBoys_Mid = np.array([i for i in data_EagleBoys if i[1]==\"Mid\"])\n",
    "data_EagleBoys_DeepPan = np.array([i for i in data_EagleBoys if i[1]==\"DeepPan\"])"
   ]
  },
  {
   "cell_type": "code",
   "execution_count": 24,
   "metadata": {},
   "outputs": [
    {
     "data": {
      "text/plain": [
       "array([['EagleBoys', 'Thin', 'BBQMeatlovers', 30.05],\n",
       "       ['EagleBoys', 'Thin', 'Supreme', 29.14],\n",
       "       ['EagleBoys', 'Thin', 'Hawaiian', 29.98],\n",
       "       ['EagleBoys', 'Thin', 'Supreme', 29.47],\n",
       "       ['EagleBoys', 'Thin', 'Supreme', 30.0]], dtype=object)"
      ]
     },
     "execution_count": 24,
     "metadata": {},
     "output_type": "execute_result"
    }
   ],
   "source": [
    "data_EagleBoys_Thin[:5]"
   ]
  },
  {
   "cell_type": "code",
   "execution_count": 25,
   "metadata": {
    "collapsed": true
   },
   "outputs": [],
   "source": [
    "matrix_Dominos = np.array([\n",
    "                   [\"Thin\",  len(data_Dominos_Thin[data_Dominos_Thin[:,2]== \"Hawaiian\"]), \n",
    "                    len(data_Dominos_Thin[data_Dominos_Thin[:,2]==\"Supreme\"]), \n",
    "                    len(data_Dominos_Thin[data_Dominos_Thin[:,2]==\"BBQMeatlovers\"]), \n",
    "                    len(data_Dominos[data_Dominos[:,1] == \"Thin\", -1])],\n",
    "                   \n",
    "                    [\"Mid\",  len(data_Dominos_Mid[data_Dominos_Mid[:,2]== \"Hawaiian\"]), \n",
    "                    len(data_Dominos_Mid[data_Dominos_Mid[:,2]==\"Supreme\"]), \n",
    "                    len(data_Dominos_Mid[data_Dominos_Mid[:,2]==\"BBQMeatlovers\"]), \n",
    "                    len(data_Dominos[data_Dominos[:,1] == \"Mid\", -1])],\n",
    "                    \n",
    "                    [\"DeepPan\",  len(data_Dominos_DeepPan[data_Dominos_DeepPan[:,2]== \"Hawaiian\"]), \n",
    "                    len(data_Dominos_DeepPan[data_Dominos_DeepPan[:,2]==\"Supreme\"]), \n",
    "                    len(data_Dominos_DeepPan[data_Dominos_DeepPan[:,2]==\"BBQMeatlovers\"]), \n",
    "                    len(data_Dominos[data_Dominos[:,1] == \"DeepPan\", -1])],\n",
    "                   \n",
    "                    [\"součty\", len(data_Dominos[data_Dominos[:,2] == \"Hawaiian\", -1]),\n",
    "                    len(data_Dominos[data_Dominos[:,2] == \"Supreme\", -1]),\n",
    "                    len(data_Dominos[data_Dominos[:,2] == \"BBQMeatlovers\", -1]),\n",
    "                    len(data_Dominos[:,-1])],\n",
    "\n",
    "                   \n",
    "                   \n",
    "                  ])"
   ]
  },
  {
   "cell_type": "code",
   "execution_count": 26,
   "metadata": {},
   "outputs": [
    {
     "data": {
      "text/html": [
       "<div>\n",
       "<style>\n",
       "    .dataframe thead tr:only-child th {\n",
       "        text-align: right;\n",
       "    }\n",
       "\n",
       "    .dataframe thead th {\n",
       "        text-align: left;\n",
       "    }\n",
       "\n",
       "    .dataframe tbody tr th {\n",
       "        vertical-align: top;\n",
       "    }\n",
       "</style>\n",
       "<table border=\"1\" class=\"dataframe\">\n",
       "  <thead>\n",
       "    <tr style=\"text-align: right;\">\n",
       "      <th></th>\n",
       "      <th>Druh</th>\n",
       "      <th>Hawaiian</th>\n",
       "      <th>Supreme</th>\n",
       "      <th>BBQMeatlovers</th>\n",
       "      <th>součty</th>\n",
       "    </tr>\n",
       "  </thead>\n",
       "  <tbody>\n",
       "    <tr>\n",
       "      <th>0</th>\n",
       "      <td>Thin</td>\n",
       "      <td>14</td>\n",
       "      <td>15</td>\n",
       "      <td>14</td>\n",
       "      <td>43</td>\n",
       "    </tr>\n",
       "    <tr>\n",
       "      <th>1</th>\n",
       "      <td>Mid</td>\n",
       "      <td>14</td>\n",
       "      <td>13</td>\n",
       "      <td>15</td>\n",
       "      <td>42</td>\n",
       "    </tr>\n",
       "    <tr>\n",
       "      <th>2</th>\n",
       "      <td>DeepPan</td>\n",
       "      <td>13</td>\n",
       "      <td>13</td>\n",
       "      <td>14</td>\n",
       "      <td>40</td>\n",
       "    </tr>\n",
       "    <tr>\n",
       "      <th>3</th>\n",
       "      <td>součty</td>\n",
       "      <td>41</td>\n",
       "      <td>41</td>\n",
       "      <td>43</td>\n",
       "      <td>125</td>\n",
       "    </tr>\n",
       "  </tbody>\n",
       "</table>\n",
       "</div>"
      ],
      "text/plain": [
       "      Druh Hawaiian Supreme BBQMeatlovers součty\n",
       "0     Thin       14      15            14     43\n",
       "1      Mid       14      13            15     42\n",
       "2  DeepPan       13      13            14     40\n",
       "3   součty       41      41            43    125"
      ]
     },
     "execution_count": 26,
     "metadata": {},
     "output_type": "execute_result"
    }
   ],
   "source": [
    "pd.DataFrame(matrix_Dominos, columns=[ \"Druh\", \"Hawaiian\", \"Supreme\", \"BBQMeatlovers\", \"součty\"])"
   ]
  },
  {
   "cell_type": "code",
   "execution_count": 27,
   "metadata": {},
   "outputs": [
    {
     "data": {
      "text/plain": [
       "'\\\\begin{tabular}{lllll}\\n\\\\toprule\\n{} & Hawaiian & Supreme & BBQMeatlovers & součty \\\\\\\\\\nDruh    &          &         &               &        \\\\\\\\\\n\\\\midrule\\nThin    &       14 &      15 &            14 &     43 \\\\\\\\\\nMid     &       14 &      13 &            15 &     42 \\\\\\\\\\nDeepPan &       13 &      13 &            14 &     40 \\\\\\\\\\nsoučty  &       41 &      41 &            43 &    125 \\\\\\\\\\n\\\\bottomrule\\n\\\\end{tabular}\\n'"
      ]
     },
     "execution_count": 27,
     "metadata": {},
     "output_type": "execute_result"
    }
   ],
   "source": [
    "pd.DataFrame(matrix_Dominos, columns=[ \"Druh\", \"Hawaiian\", \"Supreme\", \"BBQMeatlovers\", \"součty\"]).set_index(\"Druh\").to_latex()"
   ]
  },
  {
   "cell_type": "code",
   "execution_count": 28,
   "metadata": {
    "collapsed": true
   },
   "outputs": [],
   "source": [
    "matrix_EagleBoys = np.array([\n",
    "                   [\"Thin\",  len(data_EagleBoys_Thin[data_EagleBoys_Thin[:,2]== \"Hawaiian\"]), \n",
    "                    len(data_EagleBoys_Thin[data_EagleBoys_Thin[:,2]==\"Supreme\"]), \n",
    "                    len(data_EagleBoys_Thin[data_EagleBoys_Thin[:,2]==\"BBQMeatlovers\"]), \n",
    "                    len(data_EagleBoys[data_EagleBoys[:,1] == \"Thin\", -1])],\n",
    "                   \n",
    "                    [\"Mid\",  len(data_EagleBoys_Mid[data_EagleBoys_Mid[:,2]== \"Hawaiian\"]), \n",
    "                    len(data_EagleBoys_Mid[data_EagleBoys_Mid[:,2]==\"Supreme\"]), \n",
    "                    len(data_EagleBoys_Mid[data_EagleBoys_Mid[:,2]==\"BBQMeatlovers\"]), \n",
    "                    len(data_EagleBoys[data_EagleBoys[:,1] == \"Mid\", -1])],\n",
    "                    \n",
    "                    [\"DeepPan\",  len(data_EagleBoys_DeepPan[data_EagleBoys_DeepPan[:,2]== \"Hawaiian\"]), \n",
    "                    len(data_EagleBoys_DeepPan[data_EagleBoys_DeepPan[:,2]==\"Supreme\"]), \n",
    "                    len(data_EagleBoys_DeepPan[data_EagleBoys_DeepPan[:,2]==\"BBQMeatlovers\"]), \n",
    "                    len(data_EagleBoys[data_EagleBoys[:,1] == \"DeepPan\", -1])],\n",
    "                   \n",
    "                    [\"součty\", len(data_EagleBoys[data_EagleBoys[:,2] == \"Hawaiian\", -1]),\n",
    "                    len(data_EagleBoys[data_EagleBoys[:,2] == \"Supreme\", -1]),\n",
    "                    len(data_EagleBoys[data_EagleBoys[:,2] == \"BBQMeatlovers\", -1]),\n",
    "                    len(data_EagleBoys[:,-1])],\n",
    "\n",
    "                   \n",
    "                   \n",
    "                  ])"
   ]
  },
  {
   "cell_type": "code",
   "execution_count": 29,
   "metadata": {
    "scrolled": true
   },
   "outputs": [
    {
     "data": {
      "text/html": [
       "<div>\n",
       "<style>\n",
       "    .dataframe thead tr:only-child th {\n",
       "        text-align: right;\n",
       "    }\n",
       "\n",
       "    .dataframe thead th {\n",
       "        text-align: left;\n",
       "    }\n",
       "\n",
       "    .dataframe tbody tr th {\n",
       "        vertical-align: top;\n",
       "    }\n",
       "</style>\n",
       "<table border=\"1\" class=\"dataframe\">\n",
       "  <thead>\n",
       "    <tr style=\"text-align: right;\">\n",
       "      <th></th>\n",
       "      <th>Hawaiian</th>\n",
       "      <th>Supreme</th>\n",
       "      <th>BBQMeatlovers</th>\n",
       "      <th>součty</th>\n",
       "    </tr>\n",
       "    <tr>\n",
       "      <th>Druh/Omáčka</th>\n",
       "      <th></th>\n",
       "      <th></th>\n",
       "      <th></th>\n",
       "      <th></th>\n",
       "    </tr>\n",
       "  </thead>\n",
       "  <tbody>\n",
       "    <tr>\n",
       "      <th>Thin</th>\n",
       "      <td>13</td>\n",
       "      <td>14</td>\n",
       "      <td>12</td>\n",
       "      <td>39</td>\n",
       "    </tr>\n",
       "    <tr>\n",
       "      <th>Mid</th>\n",
       "      <td>14</td>\n",
       "      <td>14</td>\n",
       "      <td>15</td>\n",
       "      <td>43</td>\n",
       "    </tr>\n",
       "    <tr>\n",
       "      <th>DeepPan</th>\n",
       "      <td>16</td>\n",
       "      <td>12</td>\n",
       "      <td>15</td>\n",
       "      <td>43</td>\n",
       "    </tr>\n",
       "    <tr>\n",
       "      <th>součty</th>\n",
       "      <td>43</td>\n",
       "      <td>40</td>\n",
       "      <td>42</td>\n",
       "      <td>125</td>\n",
       "    </tr>\n",
       "  </tbody>\n",
       "</table>\n",
       "</div>"
      ],
      "text/plain": [
       "            Hawaiian Supreme BBQMeatlovers součty\n",
       "Druh/Omáčka                                      \n",
       "Thin              13      14            12     39\n",
       "Mid               14      14            15     43\n",
       "DeepPan           16      12            15     43\n",
       "součty            43      40            42    125"
      ]
     },
     "execution_count": 29,
     "metadata": {},
     "output_type": "execute_result"
    }
   ],
   "source": [
    "pd.DataFrame(matrix_EagleBoys, columns=[ \"Druh/Omáčka\", \"Hawaiian\", \"Supreme\", \"BBQMeatlovers\", \"součty\"]).set_index(\"Druh/Omáčka\")"
   ]
  },
  {
   "cell_type": "code",
   "execution_count": 30,
   "metadata": {},
   "outputs": [
    {
     "data": {
      "text/plain": [
       "'\\\\begin{tabular}{lllll}\\n\\\\toprule\\n{} & Hawaiian & Supreme & BBQMeatlovers & součty \\\\\\\\\\nDruh/Omáčka &          &         &               &        \\\\\\\\\\n\\\\midrule\\nThin        &       13 &      14 &            12 &     39 \\\\\\\\\\nMid         &       14 &      14 &            15 &     43 \\\\\\\\\\nDeepPan     &       16 &      12 &            15 &     43 \\\\\\\\\\nsoučty      &       43 &      40 &            42 &    125 \\\\\\\\\\n\\\\bottomrule\\n\\\\end{tabular}\\n'"
      ]
     },
     "execution_count": 30,
     "metadata": {},
     "output_type": "execute_result"
    }
   ],
   "source": [
    "pd.DataFrame(matrix_EagleBoys, columns=[ \"Druh/Omáčka\", \"Hawaiian\", \"Supreme\", \"BBQMeatlovers\", \"součty\"]).set_index(\"Druh/Omáčka\").to_latex()"
   ]
  },
  {
   "cell_type": "code",
   "execution_count": 31,
   "metadata": {
    "collapsed": true
   },
   "outputs": [],
   "source": [
    "#np.save(\"matrix_EagleBoys_original.npy\", matrix_EagleBoys)"
   ]
  },
  {
   "cell_type": "code",
   "execution_count": 32,
   "metadata": {
    "collapsed": true
   },
   "outputs": [],
   "source": [
    "matrix_Dominos_means = np.array([\n",
    "                   [\"Thin\",  round(data_Dominos_Thin[data_Dominos_Thin[:,2]== \"Hawaiian\"][:,3].mean(), 2), \n",
    "                    round(data_Dominos_Thin[data_Dominos_Thin[:,2]==\"Supreme\"][:,3].mean(), 2), \n",
    "                    round(data_Dominos_Thin[data_Dominos_Thin[:,2]==\"BBQMeatlovers\"][:,3].mean(), 2), \n",
    "                    round(data_Dominos[data_Dominos[:,1] == \"Thin\", -1].mean(), 2)],\n",
    "                   \n",
    "                    [\"Mid\",  round(data_Dominos_Mid[data_Dominos_Mid[:,2]== \"Hawaiian\"][:,3].mean(), 2), \n",
    "                    round(data_Dominos_Mid[data_Dominos_Mid[:,2]==\"Supreme\"][:,3].mean(), 2), \n",
    "                    round(data_Dominos_Mid[data_Dominos_Mid[:,2]==\"BBQMeatlovers\"][:,3].mean(), 2), \n",
    "                    round(data_Dominos[data_Dominos[:,1] == \"Mid\", -1].mean(), 2)],\n",
    "                    \n",
    "                    [\"DeepPan\",  round(data_Dominos_DeepPan[data_Dominos_DeepPan[:,2]== \"Hawaiian\"][:,3].mean(), 2), \n",
    "                    round(data_Dominos_DeepPan[data_Dominos_DeepPan[:,2]==\"Supreme\"][:,3].mean(), 2), \n",
    "                    round(data_Dominos_DeepPan[data_Dominos_DeepPan[:,2]==\"BBQMeatlovers\"][:,3].mean(), 2), \n",
    "                    round(data_Dominos[data_Dominos[:,1] == \"DeepPan\", -1].mean(), 2)],\n",
    "                   \n",
    "                    [\"průměr\", round(data_Dominos[data_Dominos[:,2] == \"Hawaiian\", -1].mean(), 2),\n",
    "                    round(data_Dominos[data_Dominos[:,2] == \"Supreme\", -1].mean(), 2),\n",
    "                    round(data_Dominos[data_Dominos[:,2] == \"BBQMeatlovers\", -1].mean(), 2),\n",
    "                    round(data_Dominos[:,-1].mean(), 2)]\n",
    "                   \n",
    "                  ])\n",
    "\n"
   ]
  },
  {
   "cell_type": "code",
   "execution_count": 33,
   "metadata": {},
   "outputs": [
    {
     "data": {
      "text/html": [
       "<div>\n",
       "<style>\n",
       "    .dataframe thead tr:only-child th {\n",
       "        text-align: right;\n",
       "    }\n",
       "\n",
       "    .dataframe thead th {\n",
       "        text-align: left;\n",
       "    }\n",
       "\n",
       "    .dataframe tbody tr th {\n",
       "        vertical-align: top;\n",
       "    }\n",
       "</style>\n",
       "<table border=\"1\" class=\"dataframe\">\n",
       "  <thead>\n",
       "    <tr style=\"text-align: right;\">\n",
       "      <th></th>\n",
       "      <th>Druh/Omáčka</th>\n",
       "      <th>Hawaiian</th>\n",
       "      <th>Supreme</th>\n",
       "      <th>BBQMeatlovers</th>\n",
       "      <th>průměr</th>\n",
       "    </tr>\n",
       "  </thead>\n",
       "  <tbody>\n",
       "    <tr>\n",
       "      <th>0</th>\n",
       "      <td>Thin</td>\n",
       "      <td>28.83</td>\n",
       "      <td>28.75</td>\n",
       "      <td>28.86</td>\n",
       "      <td>28.81</td>\n",
       "    </tr>\n",
       "    <tr>\n",
       "      <th>1</th>\n",
       "      <td>Mid</td>\n",
       "      <td>26.58</td>\n",
       "      <td>27.1</td>\n",
       "      <td>26.62</td>\n",
       "      <td>26.75</td>\n",
       "    </tr>\n",
       "    <tr>\n",
       "      <th>2</th>\n",
       "      <td>DeepPan</td>\n",
       "      <td>26.63</td>\n",
       "      <td>26.79</td>\n",
       "      <td>26.65</td>\n",
       "      <td>26.69</td>\n",
       "    </tr>\n",
       "    <tr>\n",
       "      <th>3</th>\n",
       "      <td>průměr</td>\n",
       "      <td>27.36</td>\n",
       "      <td>27.61</td>\n",
       "      <td>27.36</td>\n",
       "      <td>27.44</td>\n",
       "    </tr>\n",
       "  </tbody>\n",
       "</table>\n",
       "</div>"
      ],
      "text/plain": [
       "  Druh/Omáčka Hawaiian Supreme BBQMeatlovers průměr\n",
       "0        Thin    28.83   28.75         28.86  28.81\n",
       "1         Mid    26.58    27.1         26.62  26.75\n",
       "2     DeepPan    26.63   26.79         26.65  26.69\n",
       "3      průměr    27.36   27.61         27.36  27.44"
      ]
     },
     "execution_count": 33,
     "metadata": {},
     "output_type": "execute_result"
    }
   ],
   "source": [
    "pd.DataFrame(matrix_Dominos_means, columns=[ \"Druh/Omáčka\", \"Hawaiian\", \"Supreme\", \"BBQMeatlovers\", \"průměr\"])"
   ]
  },
  {
   "cell_type": "code",
   "execution_count": 34,
   "metadata": {
    "collapsed": true
   },
   "outputs": [],
   "source": [
    "matrix_EagleBoys_means = np.array([\n",
    "                   [\"Thin\",  round(data_EagleBoys_Thin[data_EagleBoys_Thin[:,2]== \"Hawaiian\"][:,3].mean(), 2), \n",
    "                    round(data_EagleBoys_Thin[data_EagleBoys_Thin[:,2]==\"Supreme\"][:,3].mean(), 2), \n",
    "                    round(data_EagleBoys_Thin[data_EagleBoys_Thin[:,2]==\"BBQMeatlovers\"][:,3].mean(), 2), \n",
    "                    round(data_EagleBoys[data_EagleBoys[:,1] == \"Thin\", -1].mean(), 2)],\n",
    "                   \n",
    "                    [\"Mid\",  round(data_EagleBoys_Mid[data_EagleBoys_Mid[:,2]== \"Hawaiian\"][:,3].mean(), 2), \n",
    "                    round(data_EagleBoys_Mid[data_EagleBoys_Mid[:,2]==\"Supreme\"][:,3].mean(), 2), \n",
    "                    round(data_EagleBoys_Mid[data_EagleBoys_Mid[:,2]==\"BBQMeatlovers\"][:,3].mean(), 2), \n",
    "                    round(data_EagleBoys[data_EagleBoys[:,1] == \"Mid\", -1].mean(), 2)],\n",
    "                    \n",
    "                    [\"DeepPan\",  round(data_EagleBoys_DeepPan[data_EagleBoys_DeepPan[:,2]== \"Hawaiian\"][:,3].mean(), 2), \n",
    "                    round(data_EagleBoys_DeepPan[data_EagleBoys_DeepPan[:,2]==\"Supreme\"][:,3].mean(), 2), \n",
    "                    round(data_EagleBoys_DeepPan[data_EagleBoys_DeepPan[:,2]==\"BBQMeatlovers\"][:,3].mean(), 2), \n",
    "                    round(data_EagleBoys[data_EagleBoys[:,1] == \"DeepPan\", -1].mean(), 2)],\n",
    "                   \n",
    "                    [\"průměr\", round(data_EagleBoys[data_EagleBoys[:,2] == \"Hawaiian\", -1].mean(), 2),\n",
    "                    round(data_EagleBoys[data_EagleBoys[:,2] == \"Supreme\", -1].mean(), 2),\n",
    "                    round(data_EagleBoys[data_EagleBoys[:,2] == \"BBQMeatlovers\", -1].mean(), 2),\n",
    "                    round(data_EagleBoys[:,-1].mean(), 2)]\n",
    "                   \n",
    "                  ])\n",
    "\n"
   ]
  },
  {
   "cell_type": "code",
   "execution_count": 35,
   "metadata": {},
   "outputs": [
    {
     "data": {
      "text/html": [
       "<div>\n",
       "<style>\n",
       "    .dataframe thead tr:only-child th {\n",
       "        text-align: right;\n",
       "    }\n",
       "\n",
       "    .dataframe thead th {\n",
       "        text-align: left;\n",
       "    }\n",
       "\n",
       "    .dataframe tbody tr th {\n",
       "        vertical-align: top;\n",
       "    }\n",
       "</style>\n",
       "<table border=\"1\" class=\"dataframe\">\n",
       "  <thead>\n",
       "    <tr style=\"text-align: right;\">\n",
       "      <th></th>\n",
       "      <th>Druh/Omáčka</th>\n",
       "      <th>Hawaiian</th>\n",
       "      <th>Supreme</th>\n",
       "      <th>BBQMeatlovers</th>\n",
       "      <th>průměr</th>\n",
       "    </tr>\n",
       "  </thead>\n",
       "  <tbody>\n",
       "    <tr>\n",
       "      <th>0</th>\n",
       "      <td>Thin</td>\n",
       "      <td>29.68</td>\n",
       "      <td>29.72</td>\n",
       "      <td>29.7</td>\n",
       "      <td>29.7</td>\n",
       "    </tr>\n",
       "    <tr>\n",
       "      <th>1</th>\n",
       "      <td>Mid</td>\n",
       "      <td>28.84</td>\n",
       "      <td>28.62</td>\n",
       "      <td>28.88</td>\n",
       "      <td>28.78</td>\n",
       "    </tr>\n",
       "    <tr>\n",
       "      <th>2</th>\n",
       "      <td>DeepPan</td>\n",
       "      <td>29.15</td>\n",
       "      <td>29.09</td>\n",
       "      <td>29.02</td>\n",
       "      <td>29.09</td>\n",
       "    </tr>\n",
       "    <tr>\n",
       "      <th>3</th>\n",
       "      <td>průměr</td>\n",
       "      <td>29.21</td>\n",
       "      <td>29.15</td>\n",
       "      <td>29.16</td>\n",
       "      <td>29.17</td>\n",
       "    </tr>\n",
       "  </tbody>\n",
       "</table>\n",
       "</div>"
      ],
      "text/plain": [
       "  Druh/Omáčka Hawaiian Supreme BBQMeatlovers průměr\n",
       "0        Thin    29.68   29.72          29.7   29.7\n",
       "1         Mid    28.84   28.62         28.88  28.78\n",
       "2     DeepPan    29.15   29.09         29.02  29.09\n",
       "3      průměr    29.21   29.15         29.16  29.17"
      ]
     },
     "execution_count": 35,
     "metadata": {},
     "output_type": "execute_result"
    }
   ],
   "source": [
    "pd.DataFrame(matrix_EagleBoys_means, columns=[ \"Druh/Omáčka\", \"Hawaiian\", \"Supreme\", \"BBQMeatlovers\", \"průměr\"])"
   ]
  },
  {
   "cell_type": "code",
   "execution_count": 36,
   "metadata": {},
   "outputs": [
    {
     "data": {
      "text/plain": [
       "'\\\\begin{tabular}{llllll}\\n\\\\toprule\\n{} & Druh/Omáčka & Hawaiian & Supreme & BBQMeatlovers & průměr \\\\\\\\\\n\\\\midrule\\n0 &        Thin &    28.83 &   28.75 &         28.86 &  28.81 \\\\\\\\\\n1 &         Mid &    26.58 &    27.1 &         26.62 &  26.75 \\\\\\\\\\n2 &     DeepPan &    26.63 &   26.79 &         26.65 &  26.69 \\\\\\\\\\n3 &      průměr &    27.36 &   27.61 &         27.36 &  27.44 \\\\\\\\\\n\\\\bottomrule\\n\\\\end{tabular}\\n'"
      ]
     },
     "execution_count": 36,
     "metadata": {},
     "output_type": "execute_result"
    }
   ],
   "source": [
    "pd.DataFrame(matrix_Dominos_means, columns=[ \"Druh/Omáčka\", \"Hawaiian\", \"Supreme\", \"BBQMeatlovers\", \"průměr\"]).to_latex()"
   ]
  },
  {
   "cell_type": "code",
   "execution_count": 37,
   "metadata": {
    "scrolled": true
   },
   "outputs": [
    {
     "data": {
      "text/plain": [
       "'\\\\begin{tabular}{lllll}\\n\\\\toprule\\n{} & Hawaiian & Supreme & BBQMeatlovers & průměr \\\\\\\\\\nDruh/Omáčka &          &         &               &        \\\\\\\\\\n\\\\midrule\\nThin        &    29.68 &   29.72 &          29.7 &   29.7 \\\\\\\\\\nMid         &    28.84 &   28.62 &         28.88 &  28.78 \\\\\\\\\\nDeepPan     &    29.15 &   29.09 &         29.02 &  29.09 \\\\\\\\\\nprůměr      &    29.21 &   29.15 &         29.16 &  29.17 \\\\\\\\\\n\\\\bottomrule\\n\\\\end{tabular}\\n'"
      ]
     },
     "execution_count": 37,
     "metadata": {},
     "output_type": "execute_result"
    }
   ],
   "source": [
    "pd.DataFrame(matrix_EagleBoys_means, columns=[ \"Druh/Omáčka\", \"Hawaiian\", \"Supreme\", \"BBQMeatlovers\", \"průměr\"]).set_index(\"Druh/Omáčka\").to_latex()"
   ]
  },
  {
   "cell_type": "code",
   "execution_count": 72,
   "metadata": {},
   "outputs": [],
   "source": [
    "numan = np.array([\n",
    "                   [\"Thin\",  round(data_EagleBoys[data_EagleBoys[:,1] == \"Thin\", -1].mean(), 2),\n",
    "                   round(data_EagleBoys[data_EagleBoys[:,1] == \"Thin\", -1].std(), 2),\n",
    "                   round(np.median(data_EagleBoys[data_EagleBoys[:,1] == \"Thin\", -1]), 2),\n",
    "                   data_EagleBoys[data_EagleBoys[:,1] == \"Thin\", -1].min(),\n",
    "                   data_EagleBoys[data_EagleBoys[:,1] == \"Thin\", -1].max()],\n",
    "                   \n",
    "                   [\"Mid\",  round(data_EagleBoys[data_EagleBoys[:,1] == \"Mid\", -1].mean(), 2),\n",
    "                   round(data_EagleBoys[data_EagleBoys[:,1] == \"Mid\", -1].std(), 2),\n",
    "                   round(np.median(data_EagleBoys[data_EagleBoys[:,1] == \"Mid\", -1]), 2),\n",
    "                   data_EagleBoys[data_EagleBoys[:,1] == \"Mid\", -1].min(),\n",
    "                   data_EagleBoys[data_EagleBoys[:,1] == \"Mid\", -1].max()],\n",
    "                    \n",
    "                   [\"DeepPan\",  round(data_EagleBoys[data_EagleBoys[:,1] == \"DeepPan\", -1].mean(), 2),\n",
    "                   round(data_EagleBoys[data_EagleBoys[:,1] == \"DeepPan\", -1].std(), 2),\n",
    "                   round(np.median(data_EagleBoys[data_EagleBoys[:,1] == \"DeepPan\", -1]), 2),\n",
    "                   data_EagleBoys[data_EagleBoys[:,1] == \"DeepPan\", -1].min(),\n",
    "                   data_EagleBoys[data_EagleBoys[:,1] == \"DeepPan\", -1].max()],\n",
    "                   \n",
    "                   [\"Celkem\",  round(data_EagleBoys[:, -1].mean(), 2),\n",
    "                   round(data_EagleBoys[:, -1].std(), 2),\n",
    "                   round(np.median(data_EagleBoys[:, -1]), 2),\n",
    "                   data_EagleBoys[:, -1].min(),\n",
    "                   data_EagleBoys[:, -1].max()],\n",
    "    \n",
    "                   [\"Thin\",  round(data_Dominos[data_Dominos[:,1] == \"Thin\", -1].mean(), 2),\n",
    "                   round(data_Dominos[data_Dominos[:,1] == \"Thin\", -1].std(), 2),\n",
    "                   round(np.median(data_Dominos[data_Dominos[:,1] == \"Thin\", -1]), 2),\n",
    "                   data_Dominos[data_Dominos[:,1] == \"Thin\", -1].min(),\n",
    "                   data_Dominos[data_Dominos[:,1] == \"Thin\", -1].max()],\n",
    "    \n",
    "                   [\"Mid\",  round(data_Dominos[data_Dominos[:,1] == \"Mid\", -1].mean(), 2),\n",
    "                   round(data_Dominos[data_Dominos[:,1] == \"Mid\", -1].std(), 2),\n",
    "                   round(np.median(data_Dominos[data_Dominos[:,1] == \"Mid\", -1]), 2),\n",
    "                   data_Dominos[data_Dominos[:,1] == \"Mid\", -1].min(),\n",
    "                   data_Dominos[data_Dominos[:,1] == \"Mid\", -1].max()],\n",
    "        \n",
    "                   [\"DeepPan\",  round(data_Dominos[data_Dominos[:,1] == \"DeepPan\", -1].mean(), 2),\n",
    "                   round(data_Dominos[data_Dominos[:,1] == \"DeepPan\", -1].std(), 2),\n",
    "                   round(np.median(data_Dominos[data_Dominos[:,1] == \"DeepPan\", -1]), 2),\n",
    "                   data_Dominos[data_Dominos[:,1] == \"DeepPan\", -1].min(),\n",
    "                   data_Dominos[data_Dominos[:,1] == \"DeepPan\", -1].max()],\n",
    "    \n",
    "                   [\"Celkem\",  round(data_Dominos[:, -1].mean(), 2),\n",
    "                   round(data_Dominos[:, -1].std(), 2),\n",
    "                   round(np.median(data_Dominos[:, -1]), 2),\n",
    "                   data_Dominos[:, -1].min(),\n",
    "                   data_Dominos[:, -1].max()]\n",
    "                    \n",
    "                  ])"
   ]
  },
  {
   "cell_type": "code",
   "execution_count": 77,
   "metadata": {},
   "outputs": [
    {
     "data": {
      "text/html": [
       "<div>\n",
       "<style>\n",
       "    .dataframe thead tr:only-child th {\n",
       "        text-align: right;\n",
       "    }\n",
       "\n",
       "    .dataframe thead th {\n",
       "        text-align: left;\n",
       "    }\n",
       "\n",
       "    .dataframe tbody tr th {\n",
       "        vertical-align: top;\n",
       "    }\n",
       "</style>\n",
       "<table border=\"1\" class=\"dataframe\">\n",
       "  <thead>\n",
       "    <tr style=\"text-align: right;\">\n",
       "      <th></th>\n",
       "      <th></th>\n",
       "      <th>Průměr</th>\n",
       "      <th>Odchylka</th>\n",
       "      <th>Medián</th>\n",
       "      <th>Min</th>\n",
       "      <th>Max</th>\n",
       "    </tr>\n",
       "  </thead>\n",
       "  <tbody>\n",
       "    <tr>\n",
       "      <th>0</th>\n",
       "      <td>Thin</td>\n",
       "      <td>29.7</td>\n",
       "      <td>0.54</td>\n",
       "      <td>29.68</td>\n",
       "      <td>28.54</td>\n",
       "      <td>31.06</td>\n",
       "    </tr>\n",
       "    <tr>\n",
       "      <th>1</th>\n",
       "      <td>Mid</td>\n",
       "      <td>28.78</td>\n",
       "      <td>0.48</td>\n",
       "      <td>28.8</td>\n",
       "      <td>26.58</td>\n",
       "      <td>29.81</td>\n",
       "    </tr>\n",
       "    <tr>\n",
       "      <th>2</th>\n",
       "      <td>DeepPan</td>\n",
       "      <td>29.09</td>\n",
       "      <td>0.47</td>\n",
       "      <td>29.01</td>\n",
       "      <td>28.19</td>\n",
       "      <td>30.37</td>\n",
       "    </tr>\n",
       "    <tr>\n",
       "      <th>3</th>\n",
       "      <td>Celkem</td>\n",
       "      <td>29.17</td>\n",
       "      <td>0.62</td>\n",
       "      <td>29.08</td>\n",
       "      <td>26.58</td>\n",
       "      <td>31.06</td>\n",
       "    </tr>\n",
       "    <tr>\n",
       "      <th>4</th>\n",
       "      <td>Thin</td>\n",
       "      <td>28.81</td>\n",
       "      <td>0.79</td>\n",
       "      <td>29.01</td>\n",
       "      <td>25.58</td>\n",
       "      <td>29.66</td>\n",
       "    </tr>\n",
       "    <tr>\n",
       "      <th>5</th>\n",
       "      <td>Mid</td>\n",
       "      <td>26.75</td>\n",
       "      <td>0.5</td>\n",
       "      <td>26.7</td>\n",
       "      <td>25.51</td>\n",
       "      <td>28.9</td>\n",
       "    </tr>\n",
       "    <tr>\n",
       "      <th>6</th>\n",
       "      <td>DeepPan</td>\n",
       "      <td>26.69</td>\n",
       "      <td>0.46</td>\n",
       "      <td>26.62</td>\n",
       "      <td>25.98</td>\n",
       "      <td>28.79</td>\n",
       "    </tr>\n",
       "    <tr>\n",
       "      <th>7</th>\n",
       "      <td>Celkem</td>\n",
       "      <td>27.44</td>\n",
       "      <td>1.16</td>\n",
       "      <td>26.93</td>\n",
       "      <td>25.51</td>\n",
       "      <td>29.66</td>\n",
       "    </tr>\n",
       "  </tbody>\n",
       "</table>\n",
       "</div>"
      ],
      "text/plain": [
       "           Průměr Odchylka Medián    Min    Max\n",
       "0     Thin   29.7     0.54  29.68  28.54  31.06\n",
       "1      Mid  28.78     0.48   28.8  26.58  29.81\n",
       "2  DeepPan  29.09     0.47  29.01  28.19  30.37\n",
       "3   Celkem  29.17     0.62  29.08  26.58  31.06\n",
       "4     Thin  28.81     0.79  29.01  25.58  29.66\n",
       "5      Mid  26.75      0.5   26.7  25.51   28.9\n",
       "6  DeepPan  26.69     0.46  26.62  25.98  28.79\n",
       "7   Celkem  27.44     1.16  26.93  25.51  29.66"
      ]
     },
     "execution_count": 77,
     "metadata": {},
     "output_type": "execute_result"
    }
   ],
   "source": [
    "pd.DataFrame(numan, columns= [\" \",\"Průměr\", \"Odchylka\", \"Medián\", \"Min\", \"Max\"])"
   ]
  },
  {
   "cell_type": "code",
   "execution_count": 78,
   "metadata": {},
   "outputs": [
    {
     "data": {
      "text/plain": [
       "'\\\\begin{tabular}{lllllll}\\n\\\\toprule\\n{} & Průměr & Odchylka & Medián &    Min &    Max \\\\\\\\\\n\\\\midrule\\n0 &     Thin &   29.7 &     0.54 &  29.68 &  28.54 &  31.06 \\\\\\\\\\n1 &      Mid &  28.78 &     0.48 &   28.8 &  26.58 &  29.81 \\\\\\\\\\n2 &  DeepPan &  29.09 &     0.47 &  29.01 &  28.19 &  30.37 \\\\\\\\\\n3 &   Celkem &  29.17 &     0.62 &  29.08 &  26.58 &  31.06 \\\\\\\\\\n4 &     Thin &  28.81 &     0.79 &  29.01 &  25.58 &  29.66 \\\\\\\\\\n5 &      Mid &  26.75 &      0.5 &   26.7 &  25.51 &   28.9 \\\\\\\\\\n6 &  DeepPan &  26.69 &     0.46 &  26.62 &  25.98 &  28.79 \\\\\\\\\\n7 &   Celkem &  27.44 &     1.16 &  26.93 &  25.51 &  29.66 \\\\\\\\\\n\\\\bottomrule\\n\\\\end{tabular}\\n'"
      ]
     },
     "execution_count": 78,
     "metadata": {},
     "output_type": "execute_result"
    }
   ],
   "source": [
    "pd.DataFrame(numan, columns= [\" \",\"Průměr\", \"Odchylka\", \"Medián\", \"Min\", \"Max\"]).to_latex()"
   ]
  },
  {
   "cell_type": "markdown",
   "metadata": {},
   "source": [
    "# Boxploty "
   ]
  },
  {
   "cell_type": "code",
   "execution_count": 38,
   "metadata": {},
   "outputs": [
    {
     "data": {
      "image/png": "[encoded data removed]",
      "text/plain": [
       "<matplotlib.figure.Figure at 0x1a11709518>"
      ]
     },
     "metadata": {},
     "output_type": "display_data"
    }
   ],
   "source": [
    "plt.figure(\"Boxploty EagleBoys\")\n",
    "plt.boxplot([np.array(data_EagleBoys[data_EagleBoys[:,1] == \"Thin\", -1],ndmin=2).T,\n",
    "             np.array(data_EagleBoys[data_EagleBoys[:,1] == \"Mid\", -1],ndmin=2).T,\n",
    "             np.array(data_EagleBoys[data_EagleBoys[:,1] == \"DeepPan\", -1],ndmin=2).T], \n",
    "            labels=[\"Thin\", \"Mid\", \"DeepPan\"])\n",
    "plt.show()"
   ]
  },
  {
   "cell_type": "code",
   "execution_count": 39,
   "metadata": {
    "scrolled": false
   },
   "outputs": [
    {
     "data": {
      "image/png": "[encoded data removed]",
      "text/plain": [
       "<matplotlib.figure.Figure at 0x1a11724400>"
      ]
     },
     "metadata": {},
     "output_type": "display_data"
    }
   ],
   "source": [
    "plt.figure(\"Boxploty Dominos\")\n",
    "plt.boxplot([np.array(data_Dominos[data_Dominos[:,1] == \"Thin\", -1],ndmin=2).T,\n",
    "             np.array(data_Dominos[data_Dominos[:,1] == \"Mid\", -1],ndmin=2).T,\n",
    "             np.array(data_Dominos[data_Dominos[:,1] == \"DeepPan\", -1],ndmin=2).T], \n",
    "            labels=[\"Thin\", \"Mid\", \"DeepPan\"])\n",
    "plt.show()"
   ]
  },
  {
   "cell_type": "code",
   "execution_count": 54,
   "metadata": {},
   "outputs": [
    {
     "data": {
      "text/plain": [
       "Ttest_1sampResult(statistic=0.00582360453553211, pvalue=0.9953839282926381)"
      ]
     },
     "execution_count": 54,
     "metadata": {},
     "output_type": "execute_result"
    }
   ],
   "source": [
    "stats.ttest_1samp(X, round(np.mean(X),2))"
   ]
  },
  {
   "cell_type": "code",
   "execution_count": null,
   "metadata": {
    "collapsed": true
   },
   "outputs": [],
   "source": []
  },
  {
   "cell_type": "markdown",
   "metadata": {},
   "source": [
    "# Testy normality"
   ]
  },
  {
   "cell_type": "markdown",
   "metadata": {},
   "source": [
    "Vzhledem k zamítnutí normality u Domino's Thin pizz jsem tyto testy opakoval v matlabu pomocí chi2gof s mle odhady parametrů a hypotéza byla zamítnuta stejně jako při testu níže. \n"
   ]
  },
  {
   "cell_type": "code",
   "execution_count": 137,
   "metadata": {
    "scrolled": true
   },
   "outputs": [
    {
     "data": {
      "text/plain": [
       "KstestResult(statistic=0.09945627421918901, pvalue=0.8351669587508694)"
      ]
     },
     "execution_count": 137,
     "metadata": {},
     "output_type": "execute_result"
    }
   ],
   "source": [
    "X = data_EagleBoys_Thin[:,-1].tolist()\n",
    "stats.kstest((X-np.mean(X))/np.std(X), 'norm')"
   ]
  },
  {
   "cell_type": "code",
   "execution_count": 138,
   "metadata": {},
   "outputs": [
    {
     "data": {
      "text/plain": [
       "KstestResult(statistic=0.14244076659024948, pvalue=0.31794334324202733)"
      ]
     },
     "execution_count": 138,
     "metadata": {},
     "output_type": "execute_result"
    }
   ],
   "source": [
    "X = data_EagleBoys_Mid[:,-1].tolist()\n",
    "stats.kstest((X-np.mean(X))/np.std(X), 'norm')"
   ]
  },
  {
   "cell_type": "code",
   "execution_count": 220,
   "metadata": {},
   "outputs": [
    {
     "data": {
      "text/plain": [
       "KstestResult(statistic=0.09963380542824235, pvalue=0.7989401136558834)"
      ]
     },
     "execution_count": 220,
     "metadata": {},
     "output_type": "execute_result"
    }
   ],
   "source": [
    "X = data_EagleBoys_DeepPan[:,-1].tolist()\n",
    "stats.kstest((X-np.mean(X))/np.std(X), 'norm')"
   ]
  },
  {
   "cell_type": "code",
   "execution_count": 140,
   "metadata": {},
   "outputs": [
    {
     "data": {
      "text/plain": [
       "KstestResult(statistic=0.18045996428153943, pvalue=0.13032038687967162)"
      ]
     },
     "execution_count": 140,
     "metadata": {},
     "output_type": "execute_result"
    }
   ],
   "source": [
    "X = data_Dominos_DeepPan[:,-1].tolist()\n",
    "stats.kstest((X-np.mean(X))/np.std(X), 'norm')"
   ]
  },
  {
   "cell_type": "code",
   "execution_count": 141,
   "metadata": {},
   "outputs": [
    {
     "data": {
      "text/plain": [
       "KstestResult(statistic=0.2500333853034649, pvalue=0.0074367771077739064)"
      ]
     },
     "execution_count": 141,
     "metadata": {},
     "output_type": "execute_result"
    }
   ],
   "source": [
    "X = data_Dominos_Thin[:,-1].tolist()\n",
    "stats.kstest((X-np.mean(X))/np.std(X), 'norm')"
   ]
  },
  {
   "cell_type": "code",
   "execution_count": 142,
   "metadata": {},
   "outputs": [
    {
     "data": {
      "text/plain": [
       "KstestResult(statistic=0.13819314499708546, pvalue=0.3672344189389103)"
      ]
     },
     "execution_count": 142,
     "metadata": {},
     "output_type": "execute_result"
    }
   ],
   "source": [
    "X = data_Dominos_Mid[:,-1].tolist()\n",
    "stats.kstest((X-np.mean(X))/np.std(X), 'norm')"
   ]
  },
  {
   "cell_type": "code",
   "execution_count": 154,
   "metadata": {},
   "outputs": [
    {
     "data": {
      "text/plain": [
       "array([0.835, 0.318, 0.799, 0.007, 0.367, 0.13 ])"
      ]
     },
     "execution_count": 154,
     "metadata": {},
     "output_type": "execute_result"
    }
   ],
   "source": [
    "X = [data_EagleBoys_Thin[:,-1].tolist(),\n",
    "     data_EagleBoys_Mid[:,-1].tolist(),\n",
    "     data_EagleBoys_DeepPan[:,-1].tolist(),\n",
    "     data_Dominos_Thin[:,-1].tolist(),\n",
    "     data_Dominos_Mid[:,-1].tolist(),\n",
    "     data_Dominos_DeepPan[:,-1].tolist()]\n",
    "     \n",
    "     \n",
    "\n",
    "pval = np.array([round(stats.kstest((i-np.mean(i))/np.std(i), 'norm')[1], 3) for i in X])\n",
    "pval"
   ]
  },
  {
   "cell_type": "code",
   "execution_count": 156,
   "metadata": {},
   "outputs": [
    {
     "data": {
      "text/plain": [
       "'\\\\begin{tabular}{lrrr}\\n\\\\toprule\\n{} &   Thin &    Mid &  DeepPan \\\\\\\\\\n\\\\midrule\\n0 &  0.835 &  0.318 &    0.799 \\\\\\\\\\n1 &  0.007 &  0.367 &    0.130 \\\\\\\\\\n\\\\bottomrule\\n\\\\end{tabular}\\n'"
      ]
     },
     "execution_count": 156,
     "metadata": {},
     "output_type": "execute_result"
    }
   ],
   "source": [
    "pd.DataFrame(np.array([pval[:-3], pval[3:]]) , columns=[\"Thin\", \"Mid\", \"DeepPan\"]).to_latex()"
   ]
  },
  {
   "cell_type": "markdown",
   "metadata": {},
   "source": [
    "# Histogramy"
   ]
  },
  {
   "cell_type": "code",
   "execution_count": 194,
   "metadata": {
    "collapsed": true
   },
   "outputs": [],
   "source": [
    "from math import pi\n",
    "def gauss(x, mi, sigma):\n",
    "    return 1/(np.sqrt(2*pi*sigma))*np.exp(-((x-mi)**2)/2/sigma)"
   ]
  },
  {
   "cell_type": "code",
   "execution_count": 213,
   "metadata": {},
   "outputs": [
    {
     "data": {
      "application/javascript": [
       "/* Put everything inside the global mpl namespace */\n",
       "window.mpl = {};\n",
       "\n",
       "\n",
       "mpl.get_websocket_type = function() {\n",
       "    if (typeof(WebSocket) !== 'undefined') {\n",
       "        return WebSocket;\n",
       "    } else if (typeof(MozWebSocket) !== 'undefined') {\n",
       "        return MozWebSocket;\n",
       "    } else {\n",
       "        alert('Your browser does not have WebSocket support.' +\n",
       "              'Please try Chrome, Safari or Firefox ≥ 6. ' +\n",
       "              'Firefox 4 and 5 are also supported but you ' +\n",
       "              'have to enable WebSockets in about:config.');\n",
       "    };\n",
       "}\n",
       "\n",
       "mpl.figure = function(figure_id, websocket, ondownload, parent_element) {\n",
       "    this.id = figure_id;\n",
       "\n",
       "    this.ws = websocket;\n",
       "\n",
       "    this.supports_binary = (this.ws.binaryType != undefined);\n",
       "\n",
       "    if (!this.supports_binary) {\n",
       "        var warnings = document.getElementById(\"mpl-warnings\");\n",
       "        if (warnings) {\n",
       "            warnings.style.display = 'block';\n",
       "            warnings.textContent = (\n",
       "                \"This browser does not support binary websocket messages. \" +\n",
       "                    \"Performance may be slow.\");\n",
       "        }\n",
       "    }\n",
       "\n",
       "    this.imageObj = new Image();\n",
       "\n",
       "    this.context = undefined;\n",
       "    this.message = undefined;\n",
       "    this.canvas = undefined;\n",
       "    this.rubberband_canvas = undefined;\n",
       "    this.rubberband_context = undefined;\n",
       "    this.format_dropdown = undefined;\n",
       "\n",
       "    this.image_mode = 'full';\n",
       "\n",
       "    this.root = $('<div/>');\n",
       "    this._root_extra_style(this.root)\n",
       "    this.root.attr('style', 'display: inline-block');\n",
       "\n",
       "    $(parent_element).append(this.root);\n",
       "\n",
       "    this._init_header(this);\n",
       "    this._init_canvas(this);\n",
       "    this._init_toolbar(this);\n",
       "\n",
       "    var fig = this;\n",
       "\n",
       "    this.waiting = false;\n",
       "\n",
       "    this.ws.onopen =  function () {\n",
       "            fig.send_message(\"supports_binary\", {value: fig.supports_binary});\n",
       "            fig.send_message(\"send_image_mode\", {});\n",
       "            if (mpl.ratio != 1) {\n",
       "                fig.send_message(\"set_dpi_ratio\", {'dpi_ratio': mpl.ratio});\n",
       "            }\n",
       "            fig.send_message(\"refresh\", {});\n",
       "        }\n",
       "\n",
       "    this.imageObj.onload = function() {\n",
       "            if (fig.image_mode == 'full') {\n",
       "                // Full images could contain transparency (where diff images\n",
       "                // almost always do), so we need to clear the canvas so that\n",
       "                // there is no ghosting.\n",
       "                fig.context.clearRect(0, 0, fig.canvas.width, fig.canvas.height);\n",
       "            }\n",
       "            fig.context.drawImage(fig.imageObj, 0, 0);\n",
       "        };\n",
       "\n",
       "    this.imageObj.onunload = function() {\n",
       "        fig.ws.close();\n",
       "    }\n",
       "\n",
       "    this.ws.onmessage = this._make_on_message_function(this);\n",
       "\n",
       "    this.ondownload = ondownload;\n",
       "}\n",
       "\n",
       "mpl.figure.prototype._init_header = function() {\n",
       "    var titlebar = $(\n",
       "        '<div class=\"ui-dialog-titlebar ui-widget-header ui-corner-all ' +\n",
       "        'ui-helper-clearfix\"/>');\n",
       "    var titletext = $(\n",
       "        '<div class=\"ui-dialog-title\" style=\"width: 100%; ' +\n",
       "        'text-align: center; padding: 3px;\"/>');\n",
       "    titlebar.append(titletext)\n",
       "    this.root.append(titlebar);\n",
       "    this.header = titletext[0];\n",
       "}\n",
       "\n",
       "\n",
       "\n",
       "mpl.figure.prototype._canvas_extra_style = function(canvas_div) {\n",
       "\n",
       "}\n",
       "\n",
       "\n",
       "mpl.figure.prototype._root_extra_style = function(canvas_div) {\n",
       "\n",
       "}\n",
       "\n",
       "mpl.figure.prototype._init_canvas = function() {\n",
       "    var fig = this;\n",
       "\n",
       "    var canvas_div = $('<div/>');\n",
       "\n",
       "    canvas_div.attr('style', 'position: relative; clear: both; outline: 0');\n",
       "\n",
       "    function canvas_keyboard_event(event) {\n",
       "        return fig.key_event(event, event['data']);\n",
       "    }\n",
       "\n",
       "    canvas_div.keydown('key_press', canvas_keyboard_event);\n",
       "    canvas_div.keyup('key_release', canvas_keyboard_event);\n",
       "    this.canvas_div = canvas_div\n",
       "    this._canvas_extra_style(canvas_div)\n",
       "    this.root.append(canvas_div);\n",
       "\n",
       "    var canvas = $('<canvas/>');\n",
       "    canvas.addClass('mpl-canvas');\n",
       "    canvas.attr('style', \"left: 0; top: 0; z-index: 0; outline: 0\")\n",
       "\n",
       "    this.canvas = canvas[0];\n",
       "    this.context = canvas[0].getContext(\"2d\");\n",
       "\n",
       "    var backingStore = this.context.backingStorePixelRatio ||\n",
       "\tthis.context.webkitBackingStorePixelRatio ||\n",
       "\tthis.context.mozBackingStorePixelRatio ||\n",
       "\tthis.context.msBackingStorePixelRatio ||\n",
       "\tthis.context.oBackingStorePixelRatio ||\n",
       "\tthis.context.backingStorePixelRatio || 1;\n",
       "\n",
       "    mpl.ratio = (window.devicePixelRatio || 1) / backingStore;\n",
       "\n",
       "    var rubberband = $('<canvas/>');\n",
       "    rubberband.attr('style', \"position: absolute; left: 0; top: 0; z-index: 1;\")\n",
       "\n",
       "    var pass_mouse_events = true;\n",
       "\n",
       "    canvas_div.resizable({\n",
       "        start: function(event, ui) {\n",
       "            pass_mouse_events = false;\n",
       "        },\n",
       "        resize: function(event, ui) {\n",
       "            fig.request_resize(ui.size.width, ui.size.height);\n",
       "        },\n",
       "        stop: function(event, ui) {\n",
       "            pass_mouse_events = true;\n",
       "            fig.request_resize(ui.size.width, ui.size.height);\n",
       "        },\n",
       "    });\n",
       "\n",
       "    function mouse_event_fn(event) {\n",
       "        if (pass_mouse_events)\n",
       "            return fig.mouse_event(event, event['data']);\n",
       "    }\n",
       "\n",
       "    rubberband.mousedown('button_press', mouse_event_fn);\n",
       "    rubberband.mouseup('button_release', mouse_event_fn);\n",
       "    // Throttle sequential mouse events to 1 every 20ms.\n",
       "    rubberband.mousemove('motion_notify', mouse_event_fn);\n",
       "\n",
       "    rubberband.mouseenter('figure_enter', mouse_event_fn);\n",
       "    rubberband.mouseleave('figure_leave', mouse_event_fn);\n",
       "\n",
       "    canvas_div.on(\"wheel\", function (event) {\n",
       "        event = event.originalEvent;\n",
       "        event['data'] = 'scroll'\n",
       "        if (event.deltaY < 0) {\n",
       "            event.step = 1;\n",
       "        } else {\n",
       "            event.step = -1;\n",
       "        }\n",
       "        mouse_event_fn(event);\n",
       "    });\n",
       "\n",
       "    canvas_div.append(canvas);\n",
       "    canvas_div.append(rubberband);\n",
       "\n",
       "    this.rubberband = rubberband;\n",
       "    this.rubberband_canvas = rubberband[0];\n",
       "    this.rubberband_context = rubberband[0].getContext(\"2d\");\n",
       "    this.rubberband_context.strokeStyle = \"#000000\";\n",
       "\n",
       "    this._resize_canvas = function(width, height) {\n",
       "        // Keep the size of the canvas, canvas container, and rubber band\n",
       "        // canvas in synch.\n",
       "        canvas_div.css('width', width)\n",
       "        canvas_div.css('height', height)\n",
       "\n",
       "        canvas.attr('width', width * mpl.ratio);\n",
       "        canvas.attr('height', height * mpl.ratio);\n",
       "        canvas.attr('style', 'width: ' + width + 'px; height: ' + height + 'px;');\n",
       "\n",
       "        rubberband.attr('width', width);\n",
       "        rubberband.attr('height', height);\n",
       "    }\n",
       "\n",
       "    // Set the figure to an initial 600x600px, this will subsequently be updated\n",
       "    // upon first draw.\n",
       "    this._resize_canvas(600, 600);\n",
       "\n",
       "    // Disable right mouse context menu.\n",
       "    $(this.rubberband_canvas).bind(\"contextmenu\",function(e){\n",
       "        return false;\n",
       "    });\n",
       "\n",
       "    function set_focus () {\n",
       "        canvas.focus();\n",
       "        canvas_div.focus();\n",
       "    }\n",
       "\n",
       "    window.setTimeout(set_focus, 100);\n",
       "}\n",
       "\n",
       "mpl.figure.prototype._init_toolbar = function() {\n",
       "    var fig = this;\n",
       "\n",
       "    var nav_element = $('<div/>')\n",
       "    nav_element.attr('style', 'width: 100%');\n",
       "    this.root.append(nav_element);\n",
       "\n",
       "    // Define a callback function for later on.\n",
       "    function toolbar_event(event) {\n",
       "        return fig.toolbar_button_onclick(event['data']);\n",
       "    }\n",
       "    function toolbar_mouse_event(event) {\n",
       "        return fig.toolbar_button_onmouseover(event['data']);\n",
       "    }\n",
       "\n",
       "    for(var toolbar_ind in mpl.toolbar_items) {\n",
       "        var name = mpl.toolbar_items[toolbar_ind][0];\n",
       "        var tooltip = mpl.toolbar_items[toolbar_ind][1];\n",
       "        var image = mpl.toolbar_items[toolbar_ind][2];\n",
       "        var method_name = mpl.toolbar_items[toolbar_ind][3];\n",
       "\n",
       "        if (!name) {\n",
       "            // put a spacer in here.\n",
       "            continue;\n",
       "        }\n",
       "        var button = $('<button/>');\n",
       "        button.addClass('ui-button ui-widget ui-state-default ui-corner-all ' +\n",
       "                        'ui-button-icon-only');\n",
       "        button.attr('role', 'button');\n",
       "        button.attr('aria-disabled', 'false');\n",
       "        button.click(method_name, toolbar_event);\n",
       "        button.mouseover(tooltip, toolbar_mouse_event);\n",
       "\n",
       "        var icon_img = $('<span/>');\n",
       "        icon_img.addClass('ui-button-icon-primary ui-icon');\n",
       "        icon_img.addClass(image);\n",
       "        icon_img.addClass('ui-corner-all');\n",
       "\n",
       "        var tooltip_span = $('<span/>');\n",
       "        tooltip_span.addClass('ui-button-text');\n",
       "        tooltip_span.html(tooltip);\n",
       "\n",
       "        button.append(icon_img);\n",
       "        button.append(tooltip_span);\n",
       "\n",
       "        nav_element.append(button);\n",
       "    }\n",
       "\n",
       "    var fmt_picker_span = $('<span/>');\n",
       "\n",
       "    var fmt_picker = $('<select/>');\n",
       "    fmt_picker.addClass('mpl-toolbar-option ui-widget ui-widget-content');\n",
       "    fmt_picker_span.append(fmt_picker);\n",
       "    nav_element.append(fmt_picker_span);\n",
       "    this.format_dropdown = fmt_picker[0];\n",
       "\n",
       "    for (var ind in mpl.extensions) {\n",
       "        var fmt = mpl.extensions[ind];\n",
       "        var option = $(\n",
       "            '<option/>', {selected: fmt === mpl.default_extension}).html(fmt);\n",
       "        fmt_picker.append(option)\n",
       "    }\n",
       "\n",
       "    // Add hover states to the ui-buttons\n",
       "    $( \".ui-button\" ).hover(\n",
       "        function() { $(this).addClass(\"ui-state-hover\");},\n",
       "        function() { $(this).removeClass(\"ui-state-hover\");}\n",
       "    );\n",
       "\n",
       "    var status_bar = $('<span class=\"mpl-message\"/>');\n",
       "    nav_element.append(status_bar);\n",
       "    this.message = status_bar[0];\n",
       "}\n",
       "\n",
       "mpl.figure.prototype.request_resize = function(x_pixels, y_pixels) {\n",
       "    // Request matplotlib to resize the figure. Matplotlib will then trigger a resize in the client,\n",
       "    // which will in turn request a refresh of the image.\n",
       "    this.send_message('resize', {'width': x_pixels, 'height': y_pixels});\n",
       "}\n",
       "\n",
       "mpl.figure.prototype.send_message = function(type, properties) {\n",
       "    properties['type'] = type;\n",
       "    properties['figure_id'] = this.id;\n",
       "    this.ws.send(JSON.stringify(properties));\n",
       "}\n",
       "\n",
       "mpl.figure.prototype.send_draw_message = function() {\n",
       "    if (!this.waiting) {\n",
       "        this.waiting = true;\n",
       "        this.ws.send(JSON.stringify({type: \"draw\", figure_id: this.id}));\n",
       "    }\n",
       "}\n",
       "\n",
       "\n",
       "mpl.figure.prototype.handle_save = function(fig, msg) {\n",
       "    var format_dropdown = fig.format_dropdown;\n",
       "    var format = format_dropdown.options[format_dropdown.selectedIndex].value;\n",
       "    fig.ondownload(fig, format);\n",
       "}\n",
       "\n",
       "\n",
       "mpl.figure.prototype.handle_resize = function(fig, msg) {\n",
       "    var size = msg['size'];\n",
       "    if (size[0] != fig.canvas.width || size[1] != fig.canvas.height) {\n",
       "        fig._resize_canvas(size[0], size[1]);\n",
       "        fig.send_message(\"refresh\", {});\n",
       "    };\n",
       "}\n",
       "\n",
       "mpl.figure.prototype.handle_rubberband = function(fig, msg) {\n",
       "    var x0 = msg['x0'] / mpl.ratio;\n",
       "    var y0 = (fig.canvas.height - msg['y0']) / mpl.ratio;\n",
       "    var x1 = msg['x1'] / mpl.ratio;\n",
       "    var y1 = (fig.canvas.height - msg['y1']) / mpl.ratio;\n",
       "    x0 = Math.floor(x0) + 0.5;\n",
       "    y0 = Math.floor(y0) + 0.5;\n",
       "    x1 = Math.floor(x1) + 0.5;\n",
       "    y1 = Math.floor(y1) + 0.5;\n",
       "    var min_x = Math.min(x0, x1);\n",
       "    var min_y = Math.min(y0, y1);\n",
       "    var width = Math.abs(x1 - x0);\n",
       "    var height = Math.abs(y1 - y0);\n",
       "\n",
       "    fig.rubberband_context.clearRect(\n",
       "        0, 0, fig.canvas.width, fig.canvas.height);\n",
       "\n",
       "    fig.rubberband_context.strokeRect(min_x, min_y, width, height);\n",
       "}\n",
       "\n",
       "mpl.figure.prototype.handle_figure_label = function(fig, msg) {\n",
       "    // Updates the figure title.\n",
       "    fig.header.textContent = msg['label'];\n",
       "}\n",
       "\n",
       "mpl.figure.prototype.handle_cursor = function(fig, msg) {\n",
       "    var cursor = msg['cursor'];\n",
       "    switch(cursor)\n",
       "    {\n",
       "    case 0:\n",
       "        cursor = 'pointer';\n",
       "        break;\n",
       "    case 1:\n",
       "        cursor = 'default';\n",
       "        break;\n",
       "    case 2:\n",
       "        cursor = 'crosshair';\n",
       "        break;\n",
       "    case 3:\n",
       "        cursor = 'move';\n",
       "        break;\n",
       "    }\n",
       "    fig.rubberband_canvas.style.cursor = cursor;\n",
       "}\n",
       "\n",
       "mpl.figure.prototype.handle_message = function(fig, msg) {\n",
       "    fig.message.textContent = msg['message'];\n",
       "}\n",
       "\n",
       "mpl.figure.prototype.handle_draw = function(fig, msg) {\n",
       "    // Request the server to send over a new figure.\n",
       "    fig.send_draw_message();\n",
       "}\n",
       "\n",
       "mpl.figure.prototype.handle_image_mode = function(fig, msg) {\n",
       "    fig.image_mode = msg['mode'];\n",
       "}\n",
       "\n",
       "mpl.figure.prototype.updated_canvas_event = function() {\n",
       "    // Called whenever the canvas gets updated.\n",
       "    this.send_message(\"ack\", {});\n",
       "}\n",
       "\n",
       "// A function to construct a web socket function for onmessage handling.\n",
       "// Called in the figure constructor.\n",
       "mpl.figure.prototype._make_on_message_function = function(fig) {\n",
       "    return function socket_on_message(evt) {\n",
       "        if (evt.data instanceof Blob) {\n",
       "            /* FIXME: We get \"Resource interpreted as Image but\n",
       "             * transferred with MIME type text/plain:\" errors on\n",
       "             * Chrome.  But how to set the MIME type?  It doesn't seem\n",
       "             * to be part of the websocket stream */\n",
       "            evt.data.type = \"image/png\";\n",
       "\n",
       "            /* Free the memory for the previous frames */\n",
       "            if (fig.imageObj.src) {\n",
       "                (window.URL || window.webkitURL).revokeObjectURL(\n",
       "                    fig.imageObj.src);\n",
       "            }\n",
       "\n",
       "            fig.imageObj.src = (window.URL || window.webkitURL).createObjectURL(\n",
       "                evt.data);\n",
       "            fig.updated_canvas_event();\n",
       "            fig.waiting = false;\n",
       "            return;\n",
       "        }\n",
       "        else if (typeof evt.data === 'string' && evt.data.slice(0, 21) == \"data:image/png;base64\") {\n",
       "            fig.imageObj.src = evt.data;\n",
       "            fig.updated_canvas_event();\n",
       "            fig.waiting = false;\n",
       "            return;\n",
       "        }\n",
       "\n",
       "        var msg = JSON.parse(evt.data);\n",
       "        var msg_type = msg['type'];\n",
       "\n",
       "        // Call the  \"handle_{type}\" callback, which takes\n",
       "        // the figure and JSON message as its only arguments.\n",
       "        try {\n",
       "            var callback = fig[\"handle_\" + msg_type];\n",
       "        } catch (e) {\n",
       "            console.log(\"No handler for the '\" + msg_type + \"' message type: \", msg);\n",
       "            return;\n",
       "        }\n",
       "\n",
       "        if (callback) {\n",
       "            try {\n",
       "                // console.log(\"Handling '\" + msg_type + \"' message: \", msg);\n",
       "                callback(fig, msg);\n",
       "            } catch (e) {\n",
       "                console.log(\"Exception inside the 'handler_\" + msg_type + \"' callback:\", e, e.stack, msg);\n",
       "            }\n",
       "        }\n",
       "    };\n",
       "}\n",
       "\n",
       "// from http://stackoverflow.com/questions/1114465/getting-mouse-location-in-canvas\n",
       "mpl.findpos = function(e) {\n",
       "    //this section is from http://www.quirksmode.org/js/events_properties.html\n",
       "    var targ;\n",
       "    if (!e)\n",
       "        e = window.event;\n",
       "    if (e.target)\n",
       "        targ = e.target;\n",
       "    else if (e.srcElement)\n",
       "        targ = e.srcElement;\n",
       "    if (targ.nodeType == 3) // defeat Safari bug\n",
       "        targ = targ.parentNode;\n",
       "\n",
       "    // jQuery normalizes the pageX and pageY\n",
       "    // pageX,Y are the mouse positions relative to the document\n",
       "    // offset() returns the position of the element relative to the document\n",
       "    var x = e.pageX - $(targ).offset().left;\n",
       "    var y = e.pageY - $(targ).offset().top;\n",
       "\n",
       "    return {\"x\": x, \"y\": y};\n",
       "};\n",
       "\n",
       "/*\n",
       " * return a copy of an object with only non-object keys\n",
       " * we need this to avoid circular references\n",
       " * http://stackoverflow.com/a/24161582/3208463\n",
       " */\n",
       "function simpleKeys (original) {\n",
       "  return Object.keys(original).reduce(function (obj, key) {\n",
       "    if (typeof original[key] !== 'object')\n",
       "        obj[key] = original[key]\n",
       "    return obj;\n",
       "  }, {});\n",
       "}\n",
       "\n",
       "mpl.figure.prototype.mouse_event = function(event, name) {\n",
       "    var canvas_pos = mpl.findpos(event)\n",
       "\n",
       "    if (name === 'button_press')\n",
       "    {\n",
       "        this.canvas.focus();\n",
       "        this.canvas_div.focus();\n",
       "    }\n",
       "\n",
       "    var x = canvas_pos.x * mpl.ratio;\n",
       "    var y = canvas_pos.y * mpl.ratio;\n",
       "\n",
       "    this.send_message(name, {x: x, y: y, button: event.button,\n",
       "                             step: event.step,\n",
       "                             guiEvent: simpleKeys(event)});\n",
       "\n",
       "    /* This prevents the web browser from automatically changing to\n",
       "     * the text insertion cursor when the button is pressed.  We want\n",
       "     * to control all of the cursor setting manually through the\n",
       "     * 'cursor' event from matplotlib */\n",
       "    event.preventDefault();\n",
       "    return false;\n",
       "}\n",
       "\n",
       "mpl.figure.prototype._key_event_extra = function(event, name) {\n",
       "    // Handle any extra behaviour associated with a key event\n",
       "}\n",
       "\n",
       "mpl.figure.prototype.key_event = function(event, name) {\n",
       "\n",
       "    // Prevent repeat events\n",
       "    if (name == 'key_press')\n",
       "    {\n",
       "        if (event.which === this._key)\n",
       "            return;\n",
       "        else\n",
       "            this._key = event.which;\n",
       "    }\n",
       "    if (name == 'key_release')\n",
       "        this._key = null;\n",
       "\n",
       "    var value = '';\n",
       "    if (event.ctrlKey && event.which != 17)\n",
       "        value += \"ctrl+\";\n",
       "    if (event.altKey && event.which != 18)\n",
       "        value += \"alt+\";\n",
       "    if (event.shiftKey && event.which != 16)\n",
       "        value += \"shift+\";\n",
       "\n",
       "    value += 'k';\n",
       "    value += event.which.toString();\n",
       "\n",
       "    this._key_event_extra(event, name);\n",
       "\n",
       "    this.send_message(name, {key: value,\n",
       "                             guiEvent: simpleKeys(event)});\n",
       "    return false;\n",
       "}\n",
       "\n",
       "mpl.figure.prototype.toolbar_button_onclick = function(name) {\n",
       "    if (name == 'download') {\n",
       "        this.handle_save(this, null);\n",
       "    } else {\n",
       "        this.send_message(\"toolbar_button\", {name: name});\n",
       "    }\n",
       "};\n",
       "\n",
       "mpl.figure.prototype.toolbar_button_onmouseover = function(tooltip) {\n",
       "    this.message.textContent = tooltip;\n",
       "};\n",
       "mpl.toolbar_items = [[\"Home\", \"Reset original view\", \"fa fa-home icon-home\", \"home\"], [\"Back\", \"Back to  previous view\", \"fa fa-arrow-left icon-arrow-left\", \"back\"], [\"Forward\", \"Forward to next view\", \"fa fa-arrow-right icon-arrow-right\", \"forward\"], [\"\", \"\", \"\", \"\"], [\"Pan\", \"Pan axes with left mouse, zoom with right\", \"fa fa-arrows icon-move\", \"pan\"], [\"Zoom\", \"Zoom to rectangle\", \"fa fa-square-o icon-check-empty\", \"zoom\"], [\"\", \"\", \"\", \"\"], [\"Download\", \"Download plot\", \"fa fa-floppy-o icon-save\", \"download\"]];\n",
       "\n",
       "mpl.extensions = [\"eps\", \"jpeg\", \"pdf\", \"png\", \"ps\", \"raw\", \"svg\", \"tif\"];\n",
       "\n",
       "mpl.default_extension = \"png\";var comm_websocket_adapter = function(comm) {\n",
       "    // Create a \"websocket\"-like object which calls the given IPython comm\n",
       "    // object with the appropriate methods. Currently this is a non binary\n",
       "    // socket, so there is still some room for performance tuning.\n",
       "    var ws = {};\n",
       "\n",
       "    ws.close = function() {\n",
       "        comm.close()\n",
       "    };\n",
       "    ws.send = function(m) {\n",
       "        //console.log('sending', m);\n",
       "        comm.send(m);\n",
       "    };\n",
       "    // Register the callback with on_msg.\n",
       "    comm.on_msg(function(msg) {\n",
       "        //console.log('receiving', msg['content']['data'], msg);\n",
       "        // Pass the mpl event to the overriden (by mpl) onmessage function.\n",
       "        ws.onmessage(msg['content']['data'])\n",
       "    });\n",
       "    return ws;\n",
       "}\n",
       "\n",
       "mpl.mpl_figure_comm = function(comm, msg) {\n",
       "    // This is the function which gets called when the mpl process\n",
       "    // starts-up an IPython Comm through the \"matplotlib\" channel.\n",
       "\n",
       "    var id = msg.content.data.id;\n",
       "    // Get hold of the div created by the display call when the Comm\n",
       "    // socket was opened in Python.\n",
       "    var element = $(\"#\" + id);\n",
       "    var ws_proxy = comm_websocket_adapter(comm)\n",
       "\n",
       "    function ondownload(figure, format) {\n",
       "        window.open(figure.imageObj.src);\n",
       "    }\n",
       "\n",
       "    var fig = new mpl.figure(id, ws_proxy,\n",
       "                           ondownload,\n",
       "                           element.get(0));\n",
       "\n",
       "    // Call onopen now - mpl needs it, as it is assuming we've passed it a real\n",
       "    // web socket which is closed, not our websocket->open comm proxy.\n",
       "    ws_proxy.onopen();\n",
       "\n",
       "    fig.parent_element = element.get(0);\n",
       "    fig.cell_info = mpl.find_output_cell(\"<div id='\" + id + \"'></div>\");\n",
       "    if (!fig.cell_info) {\n",
       "        console.error(\"Failed to find cell for figure\", id, fig);\n",
       "        return;\n",
       "    }\n",
       "\n",
       "    var output_index = fig.cell_info[2]\n",
       "    var cell = fig.cell_info[0];\n",
       "\n",
       "};\n",
       "\n",
       "mpl.figure.prototype.handle_close = function(fig, msg) {\n",
       "    var width = fig.canvas.width/mpl.ratio\n",
       "    fig.root.unbind('remove')\n",
       "\n",
       "    // Update the output cell to use the data from the current canvas.\n",
       "    fig.push_to_output();\n",
       "    var dataURL = fig.canvas.toDataURL();\n",
       "    // Re-enable the keyboard manager in IPython - without this line, in FF,\n",
       "    // the notebook keyboard shortcuts fail.\n",
       "    IPython.keyboard_manager.enable()\n",
       "    $(fig.parent_element).html('<img src=\"' + dataURL + '\" width=\"' + width + '\">');\n",
       "    fig.close_ws(fig, msg);\n",
       "}\n",
       "\n",
       "mpl.figure.prototype.close_ws = function(fig, msg){\n",
       "    fig.send_message('closing', msg);\n",
       "    // fig.ws.close()\n",
       "}\n",
       "\n",
       "mpl.figure.prototype.push_to_output = function(remove_interactive) {\n",
       "    // Turn the data on the canvas into data in the output cell.\n",
       "    var width = this.canvas.width/mpl.ratio\n",
       "    var dataURL = this.canvas.toDataURL();\n",
       "    this.cell_info[1]['text/html'] = '<img src=\"' + dataURL + '\" width=\"' + width + '\">';\n",
       "}\n",
       "\n",
       "mpl.figure.prototype.updated_canvas_event = function() {\n",
       "    // Tell IPython that the notebook contents must change.\n",
       "    IPython.notebook.set_dirty(true);\n",
       "    this.send_message(\"ack\", {});\n",
       "    var fig = this;\n",
       "    // Wait a second, then push the new image to the DOM so\n",
       "    // that it is saved nicely (might be nice to debounce this).\n",
       "    setTimeout(function () { fig.push_to_output() }, 1000);\n",
       "}\n",
       "\n",
       "mpl.figure.prototype._init_toolbar = function() {\n",
       "    var fig = this;\n",
       "\n",
       "    var nav_element = $('<div/>')\n",
       "    nav_element.attr('style', 'width: 100%');\n",
       "    this.root.append(nav_element);\n",
       "\n",
       "    // Define a callback function for later on.\n",
       "    function toolbar_event(event) {\n",
       "        return fig.toolbar_button_onclick(event['data']);\n",
       "    }\n",
       "    function toolbar_mouse_event(event) {\n",
       "        return fig.toolbar_button_onmouseover(event['data']);\n",
       "    }\n",
       "\n",
       "    for(var toolbar_ind in mpl.toolbar_items){\n",
       "        var name = mpl.toolbar_items[toolbar_ind][0];\n",
       "        var tooltip = mpl.toolbar_items[toolbar_ind][1];\n",
       "        var image = mpl.toolbar_items[toolbar_ind][2];\n",
       "        var method_name = mpl.toolbar_items[toolbar_ind][3];\n",
       "\n",
       "        if (!name) { continue; };\n",
       "\n",
       "        var button = $('<button class=\"btn btn-default\" href=\"#\" title=\"' + name + '\"><i class=\"fa ' + image + ' fa-lg\"></i></button>');\n",
       "        button.click(method_name, toolbar_event);\n",
       "        button.mouseover(tooltip, toolbar_mouse_event);\n",
       "        nav_element.append(button);\n",
       "    }\n",
       "\n",
       "    // Add the status bar.\n",
       "    var status_bar = $('<span class=\"mpl-message\" style=\"text-align:right; float: right;\"/>');\n",
       "    nav_element.append(status_bar);\n",
       "    this.message = status_bar[0];\n",
       "\n",
       "    // Add the close button to the window.\n",
       "    var buttongrp = $('<div class=\"btn-group inline pull-right\"></div>');\n",
       "    var button = $('<button class=\"btn btn-mini btn-primary\" href=\"#\" title=\"Stop Interaction\"><i class=\"fa fa-power-off icon-remove icon-large\"></i></button>');\n",
       "    button.click(function (evt) { fig.handle_close(fig, {}); } );\n",
       "    button.mouseover('Stop Interaction', toolbar_mouse_event);\n",
       "    buttongrp.append(button);\n",
       "    var titlebar = this.root.find($('.ui-dialog-titlebar'));\n",
       "    titlebar.prepend(buttongrp);\n",
       "}\n",
       "\n",
       "mpl.figure.prototype._root_extra_style = function(el){\n",
       "    var fig = this\n",
       "    el.on(\"remove\", function(){\n",
       "\tfig.close_ws(fig, {});\n",
       "    });\n",
       "}\n",
       "\n",
       "mpl.figure.prototype._canvas_extra_style = function(el){\n",
       "    // this is important to make the div 'focusable\n",
       "    el.attr('tabindex', 0)\n",
       "    // reach out to IPython and tell the keyboard manager to turn it's self\n",
       "    // off when our div gets focus\n",
       "\n",
       "    // location in version 3\n",
       "    if (IPython.notebook.keyboard_manager) {\n",
       "        IPython.notebook.keyboard_manager.register_events(el);\n",
       "    }\n",
       "    else {\n",
       "        // location in version 2\n",
       "        IPython.keyboard_manager.register_events(el);\n",
       "    }\n",
       "\n",
       "}\n",
       "\n",
       "mpl.figure.prototype._key_event_extra = function(event, name) {\n",
       "    var manager = IPython.notebook.keyboard_manager;\n",
       "    if (!manager)\n",
       "        manager = IPython.keyboard_manager;\n",
       "\n",
       "    // Check for shift+enter\n",
       "    if (event.shiftKey && event.which == 13) {\n",
       "        this.canvas_div.blur();\n",
       "        event.shiftKey = false;\n",
       "        // Send a \"J\" for go to next cell\n",
       "        event.which = 74;\n",
       "        event.keyCode = 74;\n",
       "        manager.command_mode();\n",
       "        manager.handle_keydown(event);\n",
       "    }\n",
       "}\n",
       "\n",
       "mpl.figure.prototype.handle_save = function(fig, msg) {\n",
       "    fig.ondownload(fig, null);\n",
       "}\n",
       "\n",
       "\n",
       "mpl.find_output_cell = function(html_output) {\n",
       "    // Return the cell and output element which can be found *uniquely* in the notebook.\n",
       "    // Note - this is a bit hacky, but it is done because the \"notebook_saving.Notebook\"\n",
       "    // IPython event is triggered only after the cells have been serialised, which for\n",
       "    // our purposes (turning an active figure into a static one), is too late.\n",
       "    var cells = IPython.notebook.get_cells();\n",
       "    var ncells = cells.length;\n",
       "    for (var i=0; i<ncells; i++) {\n",
       "        var cell = cells[i];\n",
       "        if (cell.cell_type === 'code'){\n",
       "            for (var j=0; j<cell.output_area.outputs.length; j++) {\n",
       "                var data = cell.output_area.outputs[j];\n",
       "                if (data.data) {\n",
       "                    // IPython >= 3 moved mimebundle to data attribute of output\n",
       "                    data = data.data;\n",
       "                }\n",
       "                if (data['text/html'] == html_output) {\n",
       "                    return [cell, data, j];\n",
       "                }\n",
       "            }\n",
       "        }\n",
       "    }\n",
       "}\n",
       "\n",
       "// Register the function which deals with the matplotlib target/channel.\n",
       "// The kernel may be null if the page has been refreshed.\n",
       "if (IPython.notebook.kernel != null) {\n",
       "    IPython.notebook.kernel.comm_manager.register_target('matplotlib', mpl.mpl_figure_comm);\n",
       "}\n"
      ],
      "text/plain": [
       "<IPython.core.display.Javascript object>"
      ]
     },
     "metadata": {},
     "output_type": "display_data"
    },
    {
     "data": {
      "text/html": [
       "<img src=\"data:image/png;base64,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\" width=\"640\">"
      ],
      "text/plain": [
       "<IPython.core.display.HTML object>"
      ]
     },
     "metadata": {},
     "output_type": "display_data"
    }
   ],
   "source": [
    "plt.figure(\"histogramy\")\n",
    "lab = [\"Thin\", \"Mid\", \"DeepPan\"]\n",
    "lab =2*lab\n",
    "\n",
    "for i,j in enumerate([1,3,5,2,4,6]):        \n",
    "        plt.subplot(6,2,j)\n",
    "        plt.hist(X[i], bins=\"auto\", normed=True)\n",
    "        x = np.linspace(min(X[i]), max(X[i]), 100)\n",
    "        plt.plot(x, gauss(x, np.mean(X[i]), np.var(X[i])))\n",
    "        if j==1:\n",
    "            plt.title(\"Eagle Boys\")\n",
    "        if j==2:\n",
    "            plt.title(\"Domino's\")\n",
    "\n",
    "        \n",
    "\n",
    "#plt.tight_layout(pad = 0.001)\n",
    "\n",
    "plt.show()"
   ]
  },
  {
   "cell_type": "code",
   "execution_count": 221,
   "metadata": {},
   "outputs": [],
   "source": [
    "#pd.DataFrame(data_Dominos_DeepPan[:,-1]).to_csv(\"ddeep.csv\", index =False)\n"
   ]
  },
  {
   "cell_type": "markdown",
   "metadata": {},
   "source": [
    "# Testy rovností průměrů (středních hodnot)"
   ]
  },
  {
   "cell_type": "code",
   "execution_count": 222,
   "metadata": {},
   "outputs": [
    {
     "data": {
      "text/plain": [
       "Ttest_indResult(statistic=14.114637855535667, pvalue=9.05256175166148e-24)"
      ]
     },
     "execution_count": 222,
     "metadata": {},
     "output_type": "execute_result"
    }
   ],
   "source": [
    "stats.ttest_ind(data_Dominos_Thin[:,-1], data_Dominos_Mid[:,-1])"
   ]
  },
  {
   "cell_type": "code",
   "execution_count": 223,
   "metadata": {},
   "outputs": [
    {
     "data": {
      "text/plain": [
       "Ttest_indResult(statistic=14.649988472732211, pvalue=1.7487598654127916e-24)"
      ]
     },
     "execution_count": 223,
     "metadata": {},
     "output_type": "execute_result"
    }
   ],
   "source": [
    "stats.ttest_ind(data_Dominos_Thin[:,-1], data_Dominos_DeepPan[:,-1])"
   ]
  },
  {
   "cell_type": "code",
   "execution_count": 224,
   "metadata": {},
   "outputs": [
    {
     "data": {
      "text/plain": [
       "Ttest_indResult(statistic=-0.5884493380088046, pvalue=0.5578884688110648)"
      ]
     },
     "execution_count": 224,
     "metadata": {},
     "output_type": "execute_result"
    }
   ],
   "source": [
    "stats.ttest_ind(data_Dominos_DeepPan[:,-1], data_Dominos_Mid[:,-1])"
   ]
  },
  {
   "cell_type": "code",
   "execution_count": 225,
   "metadata": {},
   "outputs": [
    {
     "data": {
      "text/plain": [
       "Ttest_indResult(statistic=8.05139716505743, pvalue=6.414079734063298e-12)"
      ]
     },
     "execution_count": 225,
     "metadata": {},
     "output_type": "execute_result"
    }
   ],
   "source": [
    "stats.ttest_ind(data_EagleBoys_Thin[:,-1], data_EagleBoys_Mid[:,-1])"
   ]
  },
  {
   "cell_type": "code",
   "execution_count": 226,
   "metadata": {},
   "outputs": [
    {
     "data": {
      "text/plain": [
       "Ttest_indResult(statistic=5.379750463103368, pvalue=7.229477848228884e-07)"
      ]
     },
     "execution_count": 226,
     "metadata": {},
     "output_type": "execute_result"
    }
   ],
   "source": [
    "stats.ttest_ind(data_EagleBoys_Thin[:,-1], data_EagleBoys_DeepPan[:,-1])"
   ]
  },
  {
   "cell_type": "code",
   "execution_count": 227,
   "metadata": {
    "scrolled": true
   },
   "outputs": [
    {
     "data": {
      "text/plain": [
       "Ttest_indResult(statistic=2.9623114145570653, pvalue=0.0039701568170020145)"
      ]
     },
     "execution_count": 227,
     "metadata": {},
     "output_type": "execute_result"
    }
   ],
   "source": [
    "stats.ttest_ind(data_EagleBoys_DeepPan[:,-1], data_EagleBoys_Mid[:,-1])"
   ]
  },
  {
   "cell_type": "markdown",
   "metadata": {},
   "source": [
    "# Test zda pizzy EagleBoys mají průměr 12 palců = 30.48cm"
   ]
  },
  {
   "cell_type": "code",
   "execution_count": 228,
   "metadata": {},
   "outputs": [
    {
     "data": {
      "text/plain": [
       "Ttest_1sampResult(statistic=-23.308123119439458, pvalue=3.8345559467176446e-47)"
      ]
     },
     "execution_count": 228,
     "metadata": {},
     "output_type": "execute_result"
    }
   ],
   "source": [
    "stats.ttest_1samp(data_EagleBoys[:,-1], 30.48)"
   ]
  },
  {
   "cell_type": "code",
   "execution_count": 229,
   "metadata": {},
   "outputs": [
    {
     "data": {
      "text/plain": [
       "Ttest_1sampResult(statistic=-8.851878894002798, pvalue=9.03328727857623e-11)"
      ]
     },
     "execution_count": 229,
     "metadata": {},
     "output_type": "execute_result"
    }
   ],
   "source": [
    "stats.ttest_1samp(data_EagleBoys_Thin[:,-1], 30.48)"
   ]
  },
  {
   "cell_type": "code",
   "execution_count": 230,
   "metadata": {},
   "outputs": [
    {
     "data": {
      "text/plain": [
       "Ttest_1sampResult(statistic=-23.0532735473221, pvalue=1.8333453793718426e-25)"
      ]
     },
     "execution_count": 230,
     "metadata": {},
     "output_type": "execute_result"
    }
   ],
   "source": [
    "stats.ttest_1samp(data_EagleBoys_Mid[:,-1], 30.48)"
   ]
  },
  {
   "cell_type": "code",
   "execution_count": 231,
   "metadata": {
    "scrolled": true
   },
   "outputs": [
    {
     "data": {
      "text/plain": [
       "Ttest_1sampResult(statistic=-19.048174217304133, pvalue=2.7913996373753773e-22)"
      ]
     },
     "execution_count": 231,
     "metadata": {},
     "output_type": "execute_result"
    }
   ],
   "source": [
    "stats.ttest_1samp(data_EagleBoys_DeepPan[:,-1], 30.48)"
   ]
  },
  {
   "cell_type": "markdown",
   "metadata": {},
   "source": [
    "# Testy rozptylů"
   ]
  },
  {
   "cell_type": "code",
   "execution_count": 242,
   "metadata": {},
   "outputs": [
    {
     "data": {
      "text/plain": [
       "BartlettResult(statistic=14.75697172024829, pvalue=0.0006245458201682763)"
      ]
     },
     "execution_count": 242,
     "metadata": {},
     "output_type": "execute_result"
    }
   ],
   "source": [
    "stats.bartlett(data_Dominos_Thin[:,-1], data_Dominos_Mid[:,-1], data_Dominos_DeepPan[:,-1])"
   ]
  },
  {
   "cell_type": "code",
   "execution_count": 243,
   "metadata": {},
   "outputs": [
    {
     "data": {
      "text/plain": [
       "BartlettResult(statistic=0.9650622442969261, pvalue=0.6172191559291929)"
      ]
     },
     "execution_count": 243,
     "metadata": {},
     "output_type": "execute_result"
    }
   ],
   "source": [
    "stats.bartlett(data_EagleBoys_Thin[:,-1], data_EagleBoys_Mid[:,-1], data_EagleBoys_DeepPan[:,-1])"
   ]
  },
  {
   "cell_type": "markdown",
   "metadata": {},
   "source": [
    "# Tvorba kontingenční tabulky"
   ]
  },
  {
   "cell_type": "code",
   "execution_count": 294,
   "metadata": {},
   "outputs": [],
   "source": [
    "eb_sup = data_EagleBoys[data_EagleBoys[:,2] == \"Supreme\"]\n",
    "eb_haw = data_EagleBoys[data_EagleBoys[:,2] == \"Hawaiian\"]\n",
    "eb_BBQ = data_EagleBoys[data_EagleBoys[:,2] == \"BBQMeatlovers\"]"
   ]
  },
  {
   "cell_type": "code",
   "execution_count": 296,
   "metadata": {
    "collapsed": true
   },
   "outputs": [],
   "source": [
    "d_sup = data_Dominos[data_Dominos[:,2] == \"Supreme\"]\n",
    "d_haw = data_Dominos[data_Dominos[:,2] == \"Hawaiian\"]\n",
    "d_BBQ = data_Dominos[data_Dominos[:,2] == \"BBQMeatlovers\"]"
   ]
  },
  {
   "cell_type": "code",
   "execution_count": 334,
   "metadata": {
    "collapsed": true
   },
   "outputs": [],
   "source": [
    "dh = len(d_haw)\n",
    "ds = len(d_sup)\n",
    "db = len(d_BBQ)\n",
    "\n",
    "dh27 = len(d_haw[d_haw[:,-1]<27])\n",
    "ds27 = len(d_sup[d_sup[:,-1]<27])\n",
    "db27 = len(d_BBQ[d_BBQ[:,-1]<27])\n",
    "\n",
    "dh28 = len(d_haw[d_haw[:,-1]>28])\n",
    "ds28 = len(d_sup[d_sup[:,-1]>28])\n",
    "db28 = len(d_BBQ[d_BBQ[:,-1]>28])"
   ]
  },
  {
   "cell_type": "code",
   "execution_count": 335,
   "metadata": {},
   "outputs": [],
   "source": [
    "d_con = np.array([[dh27, ds27, db27],\n",
    "                 [dh-dh27-dh28, ds-ds27-ds28, db-db27-db28],\n",
    "                 [dh28, ds28, db28]])"
   ]
  },
  {
   "cell_type": "code",
   "execution_count": 361,
   "metadata": {
    "scrolled": true
   },
   "outputs": [
    {
     "data": {
      "text/html": [
       "<div>\n",
       "<style>\n",
       "    .dataframe thead tr:only-child th {\n",
       "        text-align: right;\n",
       "    }\n",
       "\n",
       "    .dataframe thead th {\n",
       "        text-align: left;\n",
       "    }\n",
       "\n",
       "    .dataframe tbody tr th {\n",
       "        vertical-align: top;\n",
       "    }\n",
       "</style>\n",
       "<table border=\"1\" class=\"dataframe\">\n",
       "  <thead>\n",
       "    <tr style=\"text-align: right;\">\n",
       "      <th></th>\n",
       "      <th>Hawaiian</th>\n",
       "      <th>Supreme</th>\n",
       "      <th>BBQMeatlovers</th>\n",
       "    </tr>\n",
       "  </thead>\n",
       "  <tbody>\n",
       "    <tr>\n",
       "      <th>0</th>\n",
       "      <td>24</td>\n",
       "      <td>17</td>\n",
       "      <td>24</td>\n",
       "    </tr>\n",
       "    <tr>\n",
       "      <th>1</th>\n",
       "      <td>4</td>\n",
       "      <td>9</td>\n",
       "      <td>6</td>\n",
       "    </tr>\n",
       "    <tr>\n",
       "      <th>2</th>\n",
       "      <td>13</td>\n",
       "      <td>15</td>\n",
       "      <td>13</td>\n",
       "    </tr>\n",
       "  </tbody>\n",
       "</table>\n",
       "</div>"
      ],
      "text/plain": [
       "   Hawaiian  Supreme  BBQMeatlovers\n",
       "0        24       17             24\n",
       "1         4        9              6\n",
       "2        13       15             13"
      ]
     },
     "execution_count": 361,
     "metadata": {},
     "output_type": "execute_result"
    }
   ],
   "source": [
    "pd.DataFrame(d_con, columns=(\"Hawaiian\", \"Supreme\", \"BBQMeatlovers\"))"
   ]
  },
  {
   "cell_type": "code",
   "execution_count": 362,
   "metadata": {},
   "outputs": [
    {
     "data": {
      "text/plain": [
       "'\\\\begin{tabular}{lrrr}\\n\\\\toprule\\n{} &  Hawaiian &  Supreme &  BBQMeatlovers \\\\\\\\\\n\\\\midrule\\n0 &        24 &       17 &             24 \\\\\\\\\\n1 &         4 &        9 &              6 \\\\\\\\\\n2 &        13 &       15 &             13 \\\\\\\\\\n\\\\bottomrule\\n\\\\end{tabular}\\n'"
      ]
     },
     "execution_count": 362,
     "metadata": {},
     "output_type": "execute_result"
    }
   ],
   "source": [
    "pd.DataFrame(d_con, columns=(\"Hawaiian\", \"Supreme\", \"BBQMeatlovers\")).to_latex()"
   ]
  },
  {
   "cell_type": "code",
   "execution_count": 340,
   "metadata": {
    "collapsed": true
   },
   "outputs": [],
   "source": [
    "eh = len(eb_haw)\n",
    "es = len(eb_sup)\n",
    "eb = len(eb_BBQ)\n",
    "\n",
    "eh27 = len(eb_haw[eb_haw[:,-1]<28.8])\n",
    "es27 = len(eb_sup[eb_sup[:,-1]<28.8])\n",
    "eb27 = len(eb_BBQ[eb_BBQ[:,-1]<28.8])\n",
    "\n",
    "eh28 = len(eb_haw[eb_haw[:,-1]>29.5])\n",
    "es28 = len(eb_sup[eb_sup[:,-1]>29.5])\n",
    "eb28 = len(eb_BBQ[eb_BBQ[:,-1]>29.5])"
   ]
  },
  {
   "cell_type": "code",
   "execution_count": 341,
   "metadata": {
    "collapsed": true
   },
   "outputs": [],
   "source": [
    "e_con = np.array([[eh27, es27, eb27],\n",
    "                 [eh-eh27-eh28, es-es27-es28, eb-eb27-eb28],\n",
    "                 [eh28, es28, eb28]])"
   ]
  },
  {
   "cell_type": "code",
   "execution_count": 360,
   "metadata": {},
   "outputs": [
    {
     "data": {
      "text/html": [
       "<div>\n",
       "<style>\n",
       "    .dataframe thead tr:only-child th {\n",
       "        text-align: right;\n",
       "    }\n",
       "\n",
       "    .dataframe thead th {\n",
       "        text-align: left;\n",
       "    }\n",
       "\n",
       "    .dataframe tbody tr th {\n",
       "        vertical-align: top;\n",
       "    }\n",
       "</style>\n",
       "<table border=\"1\" class=\"dataframe\">\n",
       "  <thead>\n",
       "    <tr style=\"text-align: right;\">\n",
       "      <th></th>\n",
       "      <th>Hawaiian</th>\n",
       "      <th>Supreme</th>\n",
       "      <th>BBQMeatlovers</th>\n",
       "    </tr>\n",
       "  </thead>\n",
       "  <tbody>\n",
       "    <tr>\n",
       "      <th>0</th>\n",
       "      <td>13</td>\n",
       "      <td>11</td>\n",
       "      <td>15</td>\n",
       "    </tr>\n",
       "    <tr>\n",
       "      <th>1</th>\n",
       "      <td>17</td>\n",
       "      <td>21</td>\n",
       "      <td>16</td>\n",
       "    </tr>\n",
       "    <tr>\n",
       "      <th>2</th>\n",
       "      <td>13</td>\n",
       "      <td>8</td>\n",
       "      <td>11</td>\n",
       "    </tr>\n",
       "  </tbody>\n",
       "</table>\n",
       "</div>"
      ],
      "text/plain": [
       "   Hawaiian  Supreme  BBQMeatlovers\n",
       "0        13       11             15\n",
       "1        17       21             16\n",
       "2        13        8             11"
      ]
     },
     "execution_count": 360,
     "metadata": {},
     "output_type": "execute_result"
    }
   ],
   "source": [
    "pd.DataFrame(e_con, columns=(\"Hawaiian\", \"Supreme\", \"BBQMeatlovers\"))"
   ]
  },
  {
   "cell_type": "code",
   "execution_count": 359,
   "metadata": {},
   "outputs": [
    {
     "data": {
      "text/plain": [
       "'\\\\begin{tabular}{lrrr}\\n\\\\toprule\\n{} &  Hawaiian &  Supreme &  BBQMeatlovers \\\\\\\\\\n\\\\midrule\\n0 &        13 &       11 &             15 \\\\\\\\\\n1 &        17 &       21 &             16 \\\\\\\\\\n2 &        13 &        8 &             11 \\\\\\\\\\n\\\\bottomrule\\n\\\\end{tabular}\\n'"
      ]
     },
     "execution_count": 359,
     "metadata": {},
     "output_type": "execute_result"
    }
   ],
   "source": [
    "pd.DataFrame(e_con, columns=(\"Hawaiian\", \"Supreme\", \"BBQMeatlovers\")).to_latex()"
   ]
  },
  {
   "cell_type": "code",
   "execution_count": 348,
   "metadata": {},
   "outputs": [],
   "source": [
    "chi2, p, dof, ex = stats.chi2_contingency(d_con)"
   ]
  },
  {
   "cell_type": "code",
   "execution_count": 352,
   "metadata": {},
   "outputs": [
    {
     "name": "stdout",
     "output_type": "stream",
     "text": [
      "3.685754726656096 0.45020120769002114 4\n"
     ]
    }
   ],
   "source": [
    "print(chi2, p, dof)"
   ]
  },
  {
   "cell_type": "code",
   "execution_count": 353,
   "metadata": {},
   "outputs": [],
   "source": [
    "chi2, p, dof, ex = stats.chi2_contingency(e_con)"
   ]
  },
  {
   "cell_type": "code",
   "execution_count": 354,
   "metadata": {},
   "outputs": [
    {
     "name": "stdout",
     "output_type": "stream",
     "text": [
      "2.5068225316529578 0.6434145310734574 4\n"
     ]
    }
   ],
   "source": [
    "print(chi2, p, dof)"
   ]
  },
  {
   "cell_type": "code",
   "execution_count": null,
   "metadata": {
    "collapsed": true
   },
   "outputs": [],
   "source": []
  }
 ],
 "metadata": {
  "kernelspec": {
   "display_name": "Python 3",
   "language": "python",
   "name": "python3"
  },
  "language_info": {
   "codemirror_mode": {
    "name": "ipython",
    "version": 3
   },
   "file_extension": ".py",
   "mimetype": "text/x-python",
   "name": "python",
   "nbconvert_exporter": "python",
   "pygments_lexer": "ipython3",
   "version": "3.6.2"
  }
 },
 "nbformat": 4,
 "nbformat_minor": 2
}
